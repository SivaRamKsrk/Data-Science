{
 "cells": [
  {
   "cell_type": "code",
   "execution_count": 1,
   "id": "4bfd0d87",
   "metadata": {},
   "outputs": [
    {
     "data": {
      "text/plain": [
       "\"\\nimport os\\nfor dirname, _, filenames in os.walk('/kaggle/input'):\\n    for filename in filenames:\\n        print(os.path.join(dirname, filename))\\n\""
      ]
     },
     "execution_count": 1,
     "metadata": {},
     "output_type": "execute_result"
    }
   ],
   "source": [
    "import numpy as np\n",
    "import pandas as pd\n",
    "\n",
    "'''\n",
    "import os\n",
    "for dirname, _, filenames in os.walk('/kaggle/input'):\n",
    "    for filename in filenames:\n",
    "        print(os.path.join(dirname, filename))\n",
    "'''"
   ]
  },
  {
   "cell_type": "code",
   "execution_count": 30,
   "id": "01fe9279",
   "metadata": {},
   "outputs": [],
   "source": [
    "df = pd.read_csv('Iris.csv')"
   ]
  },
  {
   "cell_type": "code",
   "execution_count": 31,
   "id": "95bdb5f2",
   "metadata": {},
   "outputs": [
    {
     "data": {
      "text/html": [
       "<div>\n",
       "<style scoped>\n",
       "    .dataframe tbody tr th:only-of-type {\n",
       "        vertical-align: middle;\n",
       "    }\n",
       "\n",
       "    .dataframe tbody tr th {\n",
       "        vertical-align: top;\n",
       "    }\n",
       "\n",
       "    .dataframe thead th {\n",
       "        text-align: right;\n",
       "    }\n",
       "</style>\n",
       "<table border=\"1\" class=\"dataframe\">\n",
       "  <thead>\n",
       "    <tr style=\"text-align: right;\">\n",
       "      <th></th>\n",
       "      <th>Id</th>\n",
       "      <th>SepalLengthCm</th>\n",
       "      <th>SepalWidthCm</th>\n",
       "      <th>PetalLengthCm</th>\n",
       "      <th>PetalWidthCm</th>\n",
       "      <th>Species</th>\n",
       "    </tr>\n",
       "  </thead>\n",
       "  <tbody>\n",
       "    <tr>\n",
       "      <th>0</th>\n",
       "      <td>1</td>\n",
       "      <td>5.1</td>\n",
       "      <td>3.5</td>\n",
       "      <td>1.4</td>\n",
       "      <td>0.2</td>\n",
       "      <td>Iris-setosa</td>\n",
       "    </tr>\n",
       "    <tr>\n",
       "      <th>1</th>\n",
       "      <td>2</td>\n",
       "      <td>4.9</td>\n",
       "      <td>3.0</td>\n",
       "      <td>1.4</td>\n",
       "      <td>0.2</td>\n",
       "      <td>Iris-setosa</td>\n",
       "    </tr>\n",
       "    <tr>\n",
       "      <th>2</th>\n",
       "      <td>3</td>\n",
       "      <td>4.7</td>\n",
       "      <td>3.2</td>\n",
       "      <td>1.3</td>\n",
       "      <td>0.2</td>\n",
       "      <td>Iris-setosa</td>\n",
       "    </tr>\n",
       "    <tr>\n",
       "      <th>3</th>\n",
       "      <td>4</td>\n",
       "      <td>4.6</td>\n",
       "      <td>3.1</td>\n",
       "      <td>1.5</td>\n",
       "      <td>0.2</td>\n",
       "      <td>Iris-setosa</td>\n",
       "    </tr>\n",
       "    <tr>\n",
       "      <th>4</th>\n",
       "      <td>5</td>\n",
       "      <td>5.0</td>\n",
       "      <td>3.6</td>\n",
       "      <td>1.4</td>\n",
       "      <td>0.2</td>\n",
       "      <td>Iris-setosa</td>\n",
       "    </tr>\n",
       "  </tbody>\n",
       "</table>\n",
       "</div>"
      ],
      "text/plain": [
       "   Id  SepalLengthCm  SepalWidthCm  PetalLengthCm  PetalWidthCm      Species\n",
       "0   1            5.1           3.5            1.4           0.2  Iris-setosa\n",
       "1   2            4.9           3.0            1.4           0.2  Iris-setosa\n",
       "2   3            4.7           3.2            1.3           0.2  Iris-setosa\n",
       "3   4            4.6           3.1            1.5           0.2  Iris-setosa\n",
       "4   5            5.0           3.6            1.4           0.2  Iris-setosa"
      ]
     },
     "execution_count": 31,
     "metadata": {},
     "output_type": "execute_result"
    }
   ],
   "source": [
    "df.head()"
   ]
  },
  {
   "cell_type": "code",
   "execution_count": 32,
   "id": "195ecd27",
   "metadata": {},
   "outputs": [],
   "source": [
    "df = df.iloc[:,1:] ## dropping ID column"
   ]
  },
  {
   "cell_type": "code",
   "execution_count": 33,
   "id": "eb9a8be3",
   "metadata": {},
   "outputs": [
    {
     "data": {
      "text/html": [
       "<div>\n",
       "<style scoped>\n",
       "    .dataframe tbody tr th:only-of-type {\n",
       "        vertical-align: middle;\n",
       "    }\n",
       "\n",
       "    .dataframe tbody tr th {\n",
       "        vertical-align: top;\n",
       "    }\n",
       "\n",
       "    .dataframe thead th {\n",
       "        text-align: right;\n",
       "    }\n",
       "</style>\n",
       "<table border=\"1\" class=\"dataframe\">\n",
       "  <thead>\n",
       "    <tr style=\"text-align: right;\">\n",
       "      <th></th>\n",
       "      <th>SepalLengthCm</th>\n",
       "      <th>SepalWidthCm</th>\n",
       "      <th>PetalLengthCm</th>\n",
       "      <th>PetalWidthCm</th>\n",
       "      <th>Species</th>\n",
       "    </tr>\n",
       "  </thead>\n",
       "  <tbody>\n",
       "    <tr>\n",
       "      <th>0</th>\n",
       "      <td>5.1</td>\n",
       "      <td>3.5</td>\n",
       "      <td>1.4</td>\n",
       "      <td>0.2</td>\n",
       "      <td>Iris-setosa</td>\n",
       "    </tr>\n",
       "    <tr>\n",
       "      <th>1</th>\n",
       "      <td>4.9</td>\n",
       "      <td>3.0</td>\n",
       "      <td>1.4</td>\n",
       "      <td>0.2</td>\n",
       "      <td>Iris-setosa</td>\n",
       "    </tr>\n",
       "    <tr>\n",
       "      <th>2</th>\n",
       "      <td>4.7</td>\n",
       "      <td>3.2</td>\n",
       "      <td>1.3</td>\n",
       "      <td>0.2</td>\n",
       "      <td>Iris-setosa</td>\n",
       "    </tr>\n",
       "    <tr>\n",
       "      <th>3</th>\n",
       "      <td>4.6</td>\n",
       "      <td>3.1</td>\n",
       "      <td>1.5</td>\n",
       "      <td>0.2</td>\n",
       "      <td>Iris-setosa</td>\n",
       "    </tr>\n",
       "    <tr>\n",
       "      <th>4</th>\n",
       "      <td>5.0</td>\n",
       "      <td>3.6</td>\n",
       "      <td>1.4</td>\n",
       "      <td>0.2</td>\n",
       "      <td>Iris-setosa</td>\n",
       "    </tr>\n",
       "  </tbody>\n",
       "</table>\n",
       "</div>"
      ],
      "text/plain": [
       "   SepalLengthCm  SepalWidthCm  PetalLengthCm  PetalWidthCm      Species\n",
       "0            5.1           3.5            1.4           0.2  Iris-setosa\n",
       "1            4.9           3.0            1.4           0.2  Iris-setosa\n",
       "2            4.7           3.2            1.3           0.2  Iris-setosa\n",
       "3            4.6           3.1            1.5           0.2  Iris-setosa\n",
       "4            5.0           3.6            1.4           0.2  Iris-setosa"
      ]
     },
     "execution_count": 33,
     "metadata": {},
     "output_type": "execute_result"
    }
   ],
   "source": [
    "df.head()"
   ]
  },
  {
   "cell_type": "code",
   "execution_count": 34,
   "id": "94b07ca2",
   "metadata": {},
   "outputs": [],
   "source": [
    "## Converting Species column(o/p) to numbers using label encoding\n",
    "\n",
    "from sklearn.preprocessing import LabelEncoder"
   ]
  },
  {
   "cell_type": "code",
   "execution_count": 35,
   "id": "ba652e2b",
   "metadata": {},
   "outputs": [],
   "source": [
    "encoder = LabelEncoder()"
   ]
  },
  {
   "cell_type": "code",
   "execution_count": 36,
   "id": "1a2ecc5e",
   "metadata": {},
   "outputs": [],
   "source": [
    "df['Species'] = encoder.fit_transform(df['Species']) "
   ]
  },
  {
   "cell_type": "markdown",
   "id": "952d7db0",
   "metadata": {},
   "source": [
    "#### To make the problem difficult, we are removing setosa data and also 2 columns"
   ]
  },
  {
   "cell_type": "code",
   "execution_count": 37,
   "id": "00edf00b",
   "metadata": {},
   "outputs": [],
   "source": [
    "df = df[df['Species'] != 0][['SepalWidthCm','PetalLengthCm','Species']]"
   ]
  },
  {
   "cell_type": "code",
   "execution_count": 38,
   "id": "2f2b0686",
   "metadata": {},
   "outputs": [
    {
     "data": {
      "text/html": [
       "<div>\n",
       "<style scoped>\n",
       "    .dataframe tbody tr th:only-of-type {\n",
       "        vertical-align: middle;\n",
       "    }\n",
       "\n",
       "    .dataframe tbody tr th {\n",
       "        vertical-align: top;\n",
       "    }\n",
       "\n",
       "    .dataframe thead th {\n",
       "        text-align: right;\n",
       "    }\n",
       "</style>\n",
       "<table border=\"1\" class=\"dataframe\">\n",
       "  <thead>\n",
       "    <tr style=\"text-align: right;\">\n",
       "      <th></th>\n",
       "      <th>SepalWidthCm</th>\n",
       "      <th>PetalLengthCm</th>\n",
       "      <th>Species</th>\n",
       "    </tr>\n",
       "  </thead>\n",
       "  <tbody>\n",
       "    <tr>\n",
       "      <th>50</th>\n",
       "      <td>3.2</td>\n",
       "      <td>4.7</td>\n",
       "      <td>1</td>\n",
       "    </tr>\n",
       "    <tr>\n",
       "      <th>51</th>\n",
       "      <td>3.2</td>\n",
       "      <td>4.5</td>\n",
       "      <td>1</td>\n",
       "    </tr>\n",
       "    <tr>\n",
       "      <th>52</th>\n",
       "      <td>3.1</td>\n",
       "      <td>4.9</td>\n",
       "      <td>1</td>\n",
       "    </tr>\n",
       "    <tr>\n",
       "      <th>53</th>\n",
       "      <td>2.3</td>\n",
       "      <td>4.0</td>\n",
       "      <td>1</td>\n",
       "    </tr>\n",
       "    <tr>\n",
       "      <th>54</th>\n",
       "      <td>2.8</td>\n",
       "      <td>4.6</td>\n",
       "      <td>1</td>\n",
       "    </tr>\n",
       "  </tbody>\n",
       "</table>\n",
       "</div>"
      ],
      "text/plain": [
       "    SepalWidthCm  PetalLengthCm  Species\n",
       "50           3.2            4.7        1\n",
       "51           3.2            4.5        1\n",
       "52           3.1            4.9        1\n",
       "53           2.3            4.0        1\n",
       "54           2.8            4.6        1"
      ]
     },
     "execution_count": 38,
     "metadata": {},
     "output_type": "execute_result"
    }
   ],
   "source": [
    "df.head()"
   ]
  },
  {
   "cell_type": "code",
   "execution_count": 39,
   "id": "917963ca",
   "metadata": {},
   "outputs": [],
   "source": [
    "import seaborn as sns\n",
    "import matplotlib.pyplot as plt"
   ]
  },
  {
   "cell_type": "code",
   "execution_count": 40,
   "id": "3e4abd2d",
   "metadata": {},
   "outputs": [
    {
     "data": {
      "text/plain": [
       "<matplotlib.collections.PathCollection at 0x21bdbb95580>"
      ]
     },
     "execution_count": 40,
     "metadata": {},
     "output_type": "execute_result"
    },
    {
     "data": {
      "image/png": "[encoded data removed]",
      "text/plain": [
       "<Figure size 432x288 with 1 Axes>"
      ]
     },
     "metadata": {
      "needs_background": "light"
     },
     "output_type": "display_data"
    }
   ],
   "source": [
    "plt.scatter(df['SepalWidthCm'],df['PetalLengthCm'],c=df['Species'],cmap='winter')"
   ]
  },
  {
   "cell_type": "code",
   "execution_count": 43,
   "id": "70fa25c5",
   "metadata": {},
   "outputs": [],
   "source": [
    "#### Shuffling the data using sample() method to train the models\n",
    "### Taking only 10 rows for training\n",
    "df = df.sample(100) ## shuffling the dataset\n",
    "df_train = df.iloc[:60,:].sample(10) ## picking first 60 rows and shuffling them again to pick 10 random rows into a new df\n",
    "df_val = df.iloc[60:80,:].sample(5)\n",
    "df_test = df.iloc[80:,:].sample(5)"
   ]
  },
  {
   "cell_type": "code",
   "execution_count": 54,
   "id": "8c133375",
   "metadata": {},
   "outputs": [
    {
     "data": {
      "text/plain": [
       "(10, 3)"
      ]
     },
     "execution_count": 54,
     "metadata": {},
     "output_type": "execute_result"
    }
   ],
   "source": [
    "df_train.shape"
   ]
  },
  {
   "cell_type": "code",
   "execution_count": 45,
   "id": "5e8bd719",
   "metadata": {},
   "outputs": [
    {
     "data": {
      "text/html": [
       "<div>\n",
       "<style scoped>\n",
       "    .dataframe tbody tr th:only-of-type {\n",
       "        vertical-align: middle;\n",
       "    }\n",
       "\n",
       "    .dataframe tbody tr th {\n",
       "        vertical-align: top;\n",
       "    }\n",
       "\n",
       "    .dataframe thead th {\n",
       "        text-align: right;\n",
       "    }\n",
       "</style>\n",
       "<table border=\"1\" class=\"dataframe\">\n",
       "  <thead>\n",
       "    <tr style=\"text-align: right;\">\n",
       "      <th></th>\n",
       "      <th>SepalWidthCm</th>\n",
       "      <th>PetalLengthCm</th>\n",
       "      <th>Species</th>\n",
       "    </tr>\n",
       "  </thead>\n",
       "  <tbody>\n",
       "    <tr>\n",
       "      <th>83</th>\n",
       "      <td>2.7</td>\n",
       "      <td>5.1</td>\n",
       "      <td>1</td>\n",
       "    </tr>\n",
       "    <tr>\n",
       "      <th>87</th>\n",
       "      <td>2.3</td>\n",
       "      <td>4.4</td>\n",
       "      <td>1</td>\n",
       "    </tr>\n",
       "    <tr>\n",
       "      <th>102</th>\n",
       "      <td>3.0</td>\n",
       "      <td>5.9</td>\n",
       "      <td>2</td>\n",
       "    </tr>\n",
       "    <tr>\n",
       "      <th>112</th>\n",
       "      <td>3.0</td>\n",
       "      <td>5.5</td>\n",
       "      <td>2</td>\n",
       "    </tr>\n",
       "    <tr>\n",
       "      <th>70</th>\n",
       "      <td>3.2</td>\n",
       "      <td>4.8</td>\n",
       "      <td>1</td>\n",
       "    </tr>\n",
       "  </tbody>\n",
       "</table>\n",
       "</div>"
      ],
      "text/plain": [
       "     SepalWidthCm  PetalLengthCm  Species\n",
       "83            2.7            5.1        1\n",
       "87            2.3            4.4        1\n",
       "102           3.0            5.9        2\n",
       "112           3.0            5.5        2\n",
       "70            3.2            4.8        1"
      ]
     },
     "execution_count": 45,
     "metadata": {},
     "output_type": "execute_result"
    }
   ],
   "source": [
    "df_val"
   ]
  },
  {
   "cell_type": "code",
   "execution_count": 46,
   "id": "88280902",
   "metadata": {},
   "outputs": [
    {
     "data": {
      "text/html": [
       "<div>\n",
       "<style scoped>\n",
       "    .dataframe tbody tr th:only-of-type {\n",
       "        vertical-align: middle;\n",
       "    }\n",
       "\n",
       "    .dataframe tbody tr th {\n",
       "        vertical-align: top;\n",
       "    }\n",
       "\n",
       "    .dataframe thead th {\n",
       "        text-align: right;\n",
       "    }\n",
       "</style>\n",
       "<table border=\"1\" class=\"dataframe\">\n",
       "  <thead>\n",
       "    <tr style=\"text-align: right;\">\n",
       "      <th></th>\n",
       "      <th>SepalWidthCm</th>\n",
       "      <th>PetalLengthCm</th>\n",
       "      <th>Species</th>\n",
       "    </tr>\n",
       "  </thead>\n",
       "  <tbody>\n",
       "    <tr>\n",
       "      <th>135</th>\n",
       "      <td>3.0</td>\n",
       "      <td>6.1</td>\n",
       "      <td>2</td>\n",
       "    </tr>\n",
       "    <tr>\n",
       "      <th>68</th>\n",
       "      <td>2.2</td>\n",
       "      <td>4.5</td>\n",
       "      <td>1</td>\n",
       "    </tr>\n",
       "    <tr>\n",
       "      <th>51</th>\n",
       "      <td>3.2</td>\n",
       "      <td>4.5</td>\n",
       "      <td>1</td>\n",
       "    </tr>\n",
       "    <tr>\n",
       "      <th>140</th>\n",
       "      <td>3.1</td>\n",
       "      <td>5.6</td>\n",
       "      <td>2</td>\n",
       "    </tr>\n",
       "    <tr>\n",
       "      <th>113</th>\n",
       "      <td>2.5</td>\n",
       "      <td>5.0</td>\n",
       "      <td>2</td>\n",
       "    </tr>\n",
       "  </tbody>\n",
       "</table>\n",
       "</div>"
      ],
      "text/plain": [
       "     SepalWidthCm  PetalLengthCm  Species\n",
       "135           3.0            6.1        2\n",
       "68            2.2            4.5        1\n",
       "51            3.2            4.5        1\n",
       "140           3.1            5.6        2\n",
       "113           2.5            5.0        2"
      ]
     },
     "execution_count": 46,
     "metadata": {},
     "output_type": "execute_result"
    }
   ],
   "source": [
    "df_test"
   ]
  },
  {
   "cell_type": "code",
   "execution_count": 52,
   "id": "1dc2594f",
   "metadata": {},
   "outputs": [
    {
     "data": {
      "text/plain": [
       "array([[2.7, 5.1],\n",
       "       [2.3, 4.4],\n",
       "       [3. , 5.9],\n",
       "       [3. , 5.5],\n",
       "       [3.2, 4.8]])"
      ]
     },
     "execution_count": 52,
     "metadata": {},
     "output_type": "execute_result"
    }
   ],
   "source": [
    "X_test = df_val.iloc[:,0:2].values\n",
    "X_test"
   ]
  },
  {
   "cell_type": "code",
   "execution_count": 50,
   "id": "a88bb555",
   "metadata": {},
   "outputs": [
    {
     "data": {
      "text/plain": [
       "array([1, 1, 2, 2, 1])"
      ]
     },
     "execution_count": 50,
     "metadata": {},
     "output_type": "execute_result"
    }
   ],
   "source": [
    "y_test = df_val.iloc[:,-1].values\n",
    "y_test"
   ]
  },
  {
   "cell_type": "markdown",
   "id": "c3edddfa",
   "metadata": {},
   "source": [
    "### Case-1 Bagging\n",
    "\n",
    "We will train 3 Decision Trees"
   ]
  },
  {
   "cell_type": "code",
   "execution_count": 56,
   "id": "6538d0e9",
   "metadata": {},
   "outputs": [
    {
     "data": {
      "text/html": [
       "<div>\n",
       "<style scoped>\n",
       "    .dataframe tbody tr th:only-of-type {\n",
       "        vertical-align: middle;\n",
       "    }\n",
       "\n",
       "    .dataframe tbody tr th {\n",
       "        vertical-align: top;\n",
       "    }\n",
       "\n",
       "    .dataframe thead th {\n",
       "        text-align: right;\n",
       "    }\n",
       "</style>\n",
       "<table border=\"1\" class=\"dataframe\">\n",
       "  <thead>\n",
       "    <tr style=\"text-align: right;\">\n",
       "      <th></th>\n",
       "      <th>SepalWidthCm</th>\n",
       "      <th>PetalLengthCm</th>\n",
       "      <th>Species</th>\n",
       "    </tr>\n",
       "  </thead>\n",
       "  <tbody>\n",
       "    <tr>\n",
       "      <th>146</th>\n",
       "      <td>2.5</td>\n",
       "      <td>5.0</td>\n",
       "      <td>2</td>\n",
       "    </tr>\n",
       "    <tr>\n",
       "      <th>146</th>\n",
       "      <td>2.5</td>\n",
       "      <td>5.0</td>\n",
       "      <td>2</td>\n",
       "    </tr>\n",
       "    <tr>\n",
       "      <th>82</th>\n",
       "      <td>2.7</td>\n",
       "      <td>3.9</td>\n",
       "      <td>1</td>\n",
       "    </tr>\n",
       "    <tr>\n",
       "      <th>103</th>\n",
       "      <td>2.9</td>\n",
       "      <td>5.6</td>\n",
       "      <td>2</td>\n",
       "    </tr>\n",
       "    <tr>\n",
       "      <th>61</th>\n",
       "      <td>3.0</td>\n",
       "      <td>4.2</td>\n",
       "      <td>1</td>\n",
       "    </tr>\n",
       "    <tr>\n",
       "      <th>67</th>\n",
       "      <td>2.7</td>\n",
       "      <td>4.1</td>\n",
       "      <td>1</td>\n",
       "    </tr>\n",
       "    <tr>\n",
       "      <th>105</th>\n",
       "      <td>3.0</td>\n",
       "      <td>6.6</td>\n",
       "      <td>2</td>\n",
       "    </tr>\n",
       "    <tr>\n",
       "      <th>67</th>\n",
       "      <td>2.7</td>\n",
       "      <td>4.1</td>\n",
       "      <td>1</td>\n",
       "    </tr>\n",
       "  </tbody>\n",
       "</table>\n",
       "</div>"
      ],
      "text/plain": [
       "     SepalWidthCm  PetalLengthCm  Species\n",
       "146           2.5            5.0        2\n",
       "146           2.5            5.0        2\n",
       "82            2.7            3.9        1\n",
       "103           2.9            5.6        2\n",
       "61            3.0            4.2        1\n",
       "67            2.7            4.1        1\n",
       "105           3.0            6.6        2\n",
       "67            2.7            4.1        1"
      ]
     },
     "execution_count": 56,
     "metadata": {},
     "output_type": "execute_result"
    }
   ],
   "source": [
    "### Data for Tree 1 is 10 random rows picked from dataset and stored in df_train\n",
    "### We are about to train 3 DT's and we will be providing 80% of the total data to each DT.\n",
    "\n",
    "df_bag = df_train.sample(8,replace=True) ### We can have same rows repeating while using replace=True which is a rare case.\n",
    "X = df_bag.iloc[:,0:2]\n",
    "y = df_bag.iloc[:,-1]\n",
    "\n",
    "df_bag"
   ]
  },
  {
   "cell_type": "markdown",
   "id": "95071e65",
   "metadata": {},
   "source": [
    "#### We can see that 146 is repeated twice because we have used replace = True"
   ]
  },
  {
   "cell_type": "code",
   "execution_count": 58,
   "id": "a696dd71",
   "metadata": {},
   "outputs": [
    {
     "name": "stdout",
     "output_type": "stream",
     "text": [
      "Collecting mlxtendNote: you may need to restart the kernel to use updated packages.\n"
     ]
    },
    {
     "name": "stderr",
     "output_type": "stream",
     "text": [
      "WARNING: Error parsing dependencies of pyodbc: Invalid version: '4.0.0-unsupported'\n",
      "WARNING: Error parsing dependencies of pyzmq: Invalid version: 'cpython'\n",
      "ERROR: Exception:\n",
      "Traceback (most recent call last):\n",
      "  File \"C:\\Users\\balak\\anaconda3\\lib\\site-packages\\pip\\_internal\\cli\\base_command.py\", line 105, in _run_wrapper\n",
      "    status = _inner_run()\n",
      "  File \"C:\\Users\\balak\\anaconda3\\lib\\site-packages\\pip\\_internal\\cli\\base_command.py\", line 96, in _inner_run\n",
      "    return self.run(options, args)\n",
      "  File \"C:\\Users\\balak\\anaconda3\\lib\\site-packages\\pip\\_internal\\cli\\req_command.py\", line 67, in wrapper\n",
      "    return func(self, options, args)\n",
      "  File \"C:\\Users\\balak\\anaconda3\\lib\\site-packages\\pip\\_internal\\commands\\install.py\", line 483, in run\n",
      "    installed_versions[distribution.canonical_name] = distribution.version\n",
      "  File \"C:\\Users\\balak\\anaconda3\\lib\\site-packages\\pip\\_internal\\metadata\\pkg_resources.py\", line 192, in version\n",
      "    return parse_version(self._dist.version)\n",
      "  File \"C:\\Users\\balak\\anaconda3\\lib\\site-packages\\pip\\_vendor\\packaging\\version.py\", line 56, in parse\n",
      "    return Version(version)\n",
      "  File \"C:\\Users\\balak\\anaconda3\\lib\\site-packages\\pip\\_vendor\\packaging\\version.py\", line 202, in __init__\n",
      "    raise InvalidVersion(f\"Invalid version: '{version}'\")\n",
      "pip._vendor.packaging.version.InvalidVersion: Invalid version: '4.0.0-unsupported'\n"
     ]
    },
    {
     "name": "stdout",
     "output_type": "stream",
     "text": [
      "\n",
      "  Downloading mlxtend-0.23.1-py3-none-any.whl.metadata (7.3 kB)\n",
      "Requirement already satisfied: scipy>=1.2.1 in c:\\users\\balak\\anaconda3\\lib\\site-packages (from mlxtend) (1.6.2)\n",
      "Requirement already satisfied: numpy>=1.16.2 in c:\\users\\balak\\anaconda3\\lib\\site-packages (from mlxtend) (1.20.1)\n",
      "Requirement already satisfied: pandas>=0.24.2 in c:\\users\\balak\\anaconda3\\lib\\site-packages (from mlxtend) (1.2.4)\n",
      "Requirement already satisfied: scikit-learn>=1.0.2 in c:\\users\\balak\\anaconda3\\lib\\site-packages (from mlxtend) (1.1.2)\n",
      "Requirement already satisfied: matplotlib>=3.0.0 in c:\\users\\balak\\anaconda3\\lib\\site-packages (from mlxtend) (3.3.4)\n",
      "Requirement already satisfied: joblib>=0.13.2 in c:\\users\\balak\\anaconda3\\lib\\site-packages (from mlxtend) (1.0.1)\n",
      "Requirement already satisfied: cycler>=0.10 in c:\\users\\balak\\anaconda3\\lib\\site-packages (from matplotlib>=3.0.0->mlxtend) (0.10.0)\n",
      "Requirement already satisfied: kiwisolver>=1.0.1 in c:\\users\\balak\\anaconda3\\lib\\site-packages (from matplotlib>=3.0.0->mlxtend) (1.3.1)\n",
      "Requirement already satisfied: pillow>=6.2.0 in c:\\users\\balak\\anaconda3\\lib\\site-packages (from matplotlib>=3.0.0->mlxtend) (8.2.0)\n",
      "Requirement already satisfied: pyparsing!=2.0.4,!=2.1.2,!=2.1.6,>=2.0.3 in c:\\users\\balak\\anaconda3\\lib\\site-packages (from matplotlib>=3.0.0->mlxtend) (2.4.7)\n",
      "Requirement already satisfied: python-dateutil>=2.1 in c:\\users\\balak\\anaconda3\\lib\\site-packages (from matplotlib>=3.0.0->mlxtend) (2.8.1)\n",
      "Requirement already satisfied: pytz>=2017.3 in c:\\users\\balak\\anaconda3\\lib\\site-packages (from pandas>=0.24.2->mlxtend) (2021.1)\n",
      "Requirement already satisfied: threadpoolctl>=2.0.0 in c:\\users\\balak\\anaconda3\\lib\\site-packages (from scikit-learn>=1.0.2->mlxtend) (2.1.0)\n",
      "Requirement already satisfied: six in c:\\users\\balak\\anaconda3\\lib\\site-packages (from cycler>=0.10->matplotlib>=3.0.0->mlxtend) (1.15.0)\n",
      "Downloading mlxtend-0.23.1-py3-none-any.whl (1.4 MB)\n",
      "   ---------------------------------------- 1.4/1.4 MB 4.7 MB/s eta 0:00:00\n",
      "Installing collected packages: mlxtend\n"
     ]
    }
   ],
   "source": [
    "pip install mlxtend"
   ]
  },
  {
   "cell_type": "code",
   "execution_count": 60,
   "id": "d0f84280",
   "metadata": {},
   "outputs": [],
   "source": [
    "from sklearn.tree import DecisionTreeClassifier\n",
    "from sklearn.tree import plot_tree ## This is to plot the tree\n",
    "from mlxtend.plotting import plot_decision_regions ## This is to plot decision boundaries\n",
    "from sklearn.metrics import accuracy_score"
   ]
  },
  {
   "cell_type": "code",
   "execution_count": 61,
   "id": "32c55f2f",
   "metadata": {},
   "outputs": [],
   "source": [
    "dt_bag1 = DecisionTreeClassifier()"
   ]
  },
  {
   "cell_type": "code",
   "execution_count": 63,
   "id": "bb46bee4",
   "metadata": {},
   "outputs": [
    {
     "data": {
      "image/png": "[encoded data removed]",
      "text/plain": [
       "<Figure size 432x288 with 1 Axes>"
      ]
     },
     "metadata": {
      "needs_background": "light"
     },
     "output_type": "display_data"
    },
    {
     "name": "stderr",
     "output_type": "stream",
     "text": [
      "C:\\Users\\balak\\anaconda3\\lib\\site-packages\\sklearn\\base.py:450: UserWarning: X does not have valid feature names, but DecisionTreeClassifier was fitted with feature names\n",
      "  warnings.warn(\n",
      "C:\\Users\\balak\\anaconda3\\lib\\site-packages\\sklearn\\base.py:450: UserWarning: X does not have valid feature names, but DecisionTreeClassifier was fitted with feature names\n",
      "  warnings.warn(\n"
     ]
    },
    {
     "name": "stdout",
     "output_type": "stream",
     "text": [
      "0.6\n"
     ]
    },
    {
     "data": {
      "image/png": "[encoded data removed]",
      "text/plain": [
       "<Figure size 432x288 with 1 Axes>"
      ]
     },
     "metadata": {
      "needs_background": "light"
     },
     "output_type": "display_data"
    }
   ],
   "source": [
    "evaluate(dt_bag1,X,y)"
   ]
  },
  {
   "cell_type": "code",
   "execution_count": 62,
   "id": "f911897f",
   "metadata": {},
   "outputs": [],
   "source": [
    "### Evaluate function \n",
    "def evaluate(clf,X,y):\n",
    "    clf.fit(X,y)\n",
    "    plot_tree(clf)\n",
    "    plt.show()\n",
    "    plot_decision_regions(X.values, y.values,clf=clf,legend=2)\n",
    "    y_pred = clf.predict(X_test)\n",
    "    print(accuracy_score(y_test,y_pred))"
   ]
  },
  {
   "cell_type": "markdown",
   "id": "ae33055f",
   "metadata": {},
   "source": [
    "#### Repeat the same process for DT2. Create data for DT2, pass 80% of that to classifier and test on test data."
   ]
  },
  {
   "cell_type": "code",
   "execution_count": 64,
   "id": "f03d724b",
   "metadata": {},
   "outputs": [
    {
     "data": {
      "text/html": [
       "<div>\n",
       "<style scoped>\n",
       "    .dataframe tbody tr th:only-of-type {\n",
       "        vertical-align: middle;\n",
       "    }\n",
       "\n",
       "    .dataframe tbody tr th {\n",
       "        vertical-align: top;\n",
       "    }\n",
       "\n",
       "    .dataframe thead th {\n",
       "        text-align: right;\n",
       "    }\n",
       "</style>\n",
       "<table border=\"1\" class=\"dataframe\">\n",
       "  <thead>\n",
       "    <tr style=\"text-align: right;\">\n",
       "      <th></th>\n",
       "      <th>SepalWidthCm</th>\n",
       "      <th>PetalLengthCm</th>\n",
       "      <th>Species</th>\n",
       "    </tr>\n",
       "  </thead>\n",
       "  <tbody>\n",
       "    <tr>\n",
       "      <th>67</th>\n",
       "      <td>2.7</td>\n",
       "      <td>4.1</td>\n",
       "      <td>1</td>\n",
       "    </tr>\n",
       "    <tr>\n",
       "      <th>67</th>\n",
       "      <td>2.7</td>\n",
       "      <td>4.1</td>\n",
       "      <td>1</td>\n",
       "    </tr>\n",
       "    <tr>\n",
       "      <th>114</th>\n",
       "      <td>2.8</td>\n",
       "      <td>5.1</td>\n",
       "      <td>2</td>\n",
       "    </tr>\n",
       "    <tr>\n",
       "      <th>100</th>\n",
       "      <td>3.3</td>\n",
       "      <td>6.0</td>\n",
       "      <td>2</td>\n",
       "    </tr>\n",
       "    <tr>\n",
       "      <th>105</th>\n",
       "      <td>3.0</td>\n",
       "      <td>6.6</td>\n",
       "      <td>2</td>\n",
       "    </tr>\n",
       "    <tr>\n",
       "      <th>130</th>\n",
       "      <td>2.8</td>\n",
       "      <td>6.1</td>\n",
       "      <td>2</td>\n",
       "    </tr>\n",
       "    <tr>\n",
       "      <th>82</th>\n",
       "      <td>2.7</td>\n",
       "      <td>3.9</td>\n",
       "      <td>1</td>\n",
       "    </tr>\n",
       "    <tr>\n",
       "      <th>100</th>\n",
       "      <td>3.3</td>\n",
       "      <td>6.0</td>\n",
       "      <td>2</td>\n",
       "    </tr>\n",
       "  </tbody>\n",
       "</table>\n",
       "</div>"
      ],
      "text/plain": [
       "     SepalWidthCm  PetalLengthCm  Species\n",
       "67            2.7            4.1        1\n",
       "67            2.7            4.1        1\n",
       "114           2.8            5.1        2\n",
       "100           3.3            6.0        2\n",
       "105           3.0            6.6        2\n",
       "130           2.8            6.1        2\n",
       "82            2.7            3.9        1\n",
       "100           3.3            6.0        2"
      ]
     },
     "execution_count": 64,
     "metadata": {},
     "output_type": "execute_result"
    }
   ],
   "source": [
    "### Data for Tree 2\n",
    "df_bag = df_train.sample(8,replace=True)\n",
    "\n",
    "## Fetch X and y\n",
    "X = df_bag.iloc[:,0:2]\n",
    "y = df_bag.iloc[:,-1]\n",
    "\n",
    "## print df_bag\n",
    "df_bag"
   ]
  },
  {
   "cell_type": "code",
   "execution_count": 65,
   "id": "1c7e8515",
   "metadata": {},
   "outputs": [
    {
     "data": {
      "image/png": "[encoded data removed]",
      "text/plain": [
       "<Figure size 432x288 with 1 Axes>"
      ]
     },
     "metadata": {
      "needs_background": "light"
     },
     "output_type": "display_data"
    },
    {
     "name": "stderr",
     "output_type": "stream",
     "text": [
      "C:\\Users\\balak\\anaconda3\\lib\\site-packages\\sklearn\\base.py:450: UserWarning: X does not have valid feature names, but DecisionTreeClassifier was fitted with feature names\n",
      "  warnings.warn(\n",
      "C:\\Users\\balak\\anaconda3\\lib\\site-packages\\sklearn\\base.py:450: UserWarning: X does not have valid feature names, but DecisionTreeClassifier was fitted with feature names\n",
      "  warnings.warn(\n"
     ]
    },
    {
     "name": "stdout",
     "output_type": "stream",
     "text": [
      "0.8\n"
     ]
    },
    {
     "data": {
      "image/png": "[encoded data removed]",
      "text/plain": [
       "<Figure size 432x288 with 1 Axes>"
      ]
     },
     "metadata": {
      "needs_background": "light"
     },
     "output_type": "display_data"
    }
   ],
   "source": [
    "dt_bag2 = DecisionTreeClassifier()\n",
    "evaluate(dt_bag2,X,y)"
   ]
  },
  {
   "cell_type": "markdown",
   "id": "7ba619db",
   "metadata": {},
   "source": [
    "#### Same thing for 3rd DT"
   ]
  },
  {
   "cell_type": "code",
   "execution_count": 66,
   "id": "c5546970",
   "metadata": {},
   "outputs": [
    {
     "data": {
      "text/html": [
       "<div>\n",
       "<style scoped>\n",
       "    .dataframe tbody tr th:only-of-type {\n",
       "        vertical-align: middle;\n",
       "    }\n",
       "\n",
       "    .dataframe tbody tr th {\n",
       "        vertical-align: top;\n",
       "    }\n",
       "\n",
       "    .dataframe thead th {\n",
       "        text-align: right;\n",
       "    }\n",
       "</style>\n",
       "<table border=\"1\" class=\"dataframe\">\n",
       "  <thead>\n",
       "    <tr style=\"text-align: right;\">\n",
       "      <th></th>\n",
       "      <th>SepalWidthCm</th>\n",
       "      <th>PetalLengthCm</th>\n",
       "      <th>Species</th>\n",
       "    </tr>\n",
       "  </thead>\n",
       "  <tbody>\n",
       "    <tr>\n",
       "      <th>114</th>\n",
       "      <td>2.8</td>\n",
       "      <td>5.1</td>\n",
       "      <td>2</td>\n",
       "    </tr>\n",
       "    <tr>\n",
       "      <th>100</th>\n",
       "      <td>3.3</td>\n",
       "      <td>6.0</td>\n",
       "      <td>2</td>\n",
       "    </tr>\n",
       "    <tr>\n",
       "      <th>146</th>\n",
       "      <td>2.5</td>\n",
       "      <td>5.0</td>\n",
       "      <td>2</td>\n",
       "    </tr>\n",
       "    <tr>\n",
       "      <th>130</th>\n",
       "      <td>2.8</td>\n",
       "      <td>6.1</td>\n",
       "      <td>2</td>\n",
       "    </tr>\n",
       "    <tr>\n",
       "      <th>75</th>\n",
       "      <td>3.0</td>\n",
       "      <td>4.4</td>\n",
       "      <td>1</td>\n",
       "    </tr>\n",
       "    <tr>\n",
       "      <th>103</th>\n",
       "      <td>2.9</td>\n",
       "      <td>5.6</td>\n",
       "      <td>2</td>\n",
       "    </tr>\n",
       "    <tr>\n",
       "      <th>75</th>\n",
       "      <td>3.0</td>\n",
       "      <td>4.4</td>\n",
       "      <td>1</td>\n",
       "    </tr>\n",
       "    <tr>\n",
       "      <th>114</th>\n",
       "      <td>2.8</td>\n",
       "      <td>5.1</td>\n",
       "      <td>2</td>\n",
       "    </tr>\n",
       "  </tbody>\n",
       "</table>\n",
       "</div>"
      ],
      "text/plain": [
       "     SepalWidthCm  PetalLengthCm  Species\n",
       "114           2.8            5.1        2\n",
       "100           3.3            6.0        2\n",
       "146           2.5            5.0        2\n",
       "130           2.8            6.1        2\n",
       "75            3.0            4.4        1\n",
       "103           2.9            5.6        2\n",
       "75            3.0            4.4        1\n",
       "114           2.8            5.1        2"
      ]
     },
     "execution_count": 66,
     "metadata": {},
     "output_type": "execute_result"
    }
   ],
   "source": [
    "### Data for Tree 3\n",
    "dt_bag = df_train.sample(8,replace=True)\n",
    "\n",
    "## Fetch X and y\n",
    "X = dt_bag.iloc[:,0:2]\n",
    "y = dt_bag.iloc[:,-1]\n",
    "\n",
    "## Print dt_bag\n",
    "dt_bag"
   ]
  },
  {
   "cell_type": "code",
   "execution_count": 67,
   "id": "e72689cd",
   "metadata": {},
   "outputs": [
    {
     "data": {
      "image/png": "[encoded data removed]",
      "text/plain": [
       "<Figure size 432x288 with 1 Axes>"
      ]
     },
     "metadata": {
      "needs_background": "light"
     },
     "output_type": "display_data"
    },
    {
     "name": "stderr",
     "output_type": "stream",
     "text": [
      "C:\\Users\\balak\\anaconda3\\lib\\site-packages\\sklearn\\base.py:450: UserWarning: X does not have valid feature names, but DecisionTreeClassifier was fitted with feature names\n",
      "  warnings.warn(\n",
      "C:\\Users\\balak\\anaconda3\\lib\\site-packages\\sklearn\\base.py:450: UserWarning: X does not have valid feature names, but DecisionTreeClassifier was fitted with feature names\n",
      "  warnings.warn(\n"
     ]
    },
    {
     "name": "stdout",
     "output_type": "stream",
     "text": [
      "0.6\n"
     ]
    },
    {
     "data": {
      "image/png": "[encoded data removed]",
      "text/plain": [
       "<Figure size 432x288 with 1 Axes>"
      ]
     },
     "metadata": {
      "needs_background": "light"
     },
     "output_type": "display_data"
    }
   ],
   "source": [
    "dt_bag3 = DecisionTreeClassifier()\n",
    "evaluate(dt_bag3,X,y)"
   ]
  },
  {
   "cell_type": "markdown",
   "id": "d2e5b872",
   "metadata": {},
   "source": [
    "#### Till above, we have completed the bootstrapping part. Now, we move on to the aggregation part of it."
   ]
  },
  {
   "cell_type": "markdown",
   "id": "2c1df308",
   "metadata": {},
   "source": [
    "### Predcition "
   ]
  },
  {
   "cell_type": "code",
   "execution_count": 69,
   "id": "2165288d",
   "metadata": {},
   "outputs": [
    {
     "data": {
      "text/plain": [
       "(5, 3)"
      ]
     },
     "execution_count": 69,
     "metadata": {},
     "output_type": "execute_result"
    }
   ],
   "source": [
    "df_test.shape"
   ]
  },
  {
   "cell_type": "code",
   "execution_count": 70,
   "id": "6a33dbe5",
   "metadata": {},
   "outputs": [
    {
     "data": {
      "text/html": [
       "<div>\n",
       "<style scoped>\n",
       "    .dataframe tbody tr th:only-of-type {\n",
       "        vertical-align: middle;\n",
       "    }\n",
       "\n",
       "    .dataframe tbody tr th {\n",
       "        vertical-align: top;\n",
       "    }\n",
       "\n",
       "    .dataframe thead th {\n",
       "        text-align: right;\n",
       "    }\n",
       "</style>\n",
       "<table border=\"1\" class=\"dataframe\">\n",
       "  <thead>\n",
       "    <tr style=\"text-align: right;\">\n",
       "      <th></th>\n",
       "      <th>SepalWidthCm</th>\n",
       "      <th>PetalLengthCm</th>\n",
       "      <th>Species</th>\n",
       "    </tr>\n",
       "  </thead>\n",
       "  <tbody>\n",
       "    <tr>\n",
       "      <th>135</th>\n",
       "      <td>3.0</td>\n",
       "      <td>6.1</td>\n",
       "      <td>2</td>\n",
       "    </tr>\n",
       "    <tr>\n",
       "      <th>68</th>\n",
       "      <td>2.2</td>\n",
       "      <td>4.5</td>\n",
       "      <td>1</td>\n",
       "    </tr>\n",
       "    <tr>\n",
       "      <th>51</th>\n",
       "      <td>3.2</td>\n",
       "      <td>4.5</td>\n",
       "      <td>1</td>\n",
       "    </tr>\n",
       "    <tr>\n",
       "      <th>140</th>\n",
       "      <td>3.1</td>\n",
       "      <td>5.6</td>\n",
       "      <td>2</td>\n",
       "    </tr>\n",
       "    <tr>\n",
       "      <th>113</th>\n",
       "      <td>2.5</td>\n",
       "      <td>5.0</td>\n",
       "      <td>2</td>\n",
       "    </tr>\n",
       "  </tbody>\n",
       "</table>\n",
       "</div>"
      ],
      "text/plain": [
       "     SepalWidthCm  PetalLengthCm  Species\n",
       "135           3.0            6.1        2\n",
       "68            2.2            4.5        1\n",
       "51            3.2            4.5        1\n",
       "140           3.1            5.6        2\n",
       "113           2.5            5.0        2"
      ]
     },
     "execution_count": 70,
     "metadata": {},
     "output_type": "execute_result"
    }
   ],
   "source": [
    "df_test"
   ]
  },
  {
   "cell_type": "code",
   "execution_count": 72,
   "id": "c8c7b13a",
   "metadata": {},
   "outputs": [
    {
     "name": "stdout",
     "output_type": "stream",
     "text": [
      "Predictor 1 [2]\n",
      "Predictor 2 [2]\n",
      "Predictor 3 [2]\n"
     ]
    },
    {
     "name": "stderr",
     "output_type": "stream",
     "text": [
      "C:\\Users\\balak\\anaconda3\\lib\\site-packages\\sklearn\\base.py:450: UserWarning: X does not have valid feature names, but DecisionTreeClassifier was fitted with feature names\n",
      "  warnings.warn(\n",
      "C:\\Users\\balak\\anaconda3\\lib\\site-packages\\sklearn\\base.py:450: UserWarning: X does not have valid feature names, but DecisionTreeClassifier was fitted with feature names\n",
      "  warnings.warn(\n",
      "C:\\Users\\balak\\anaconda3\\lib\\site-packages\\sklearn\\base.py:450: UserWarning: X does not have valid feature names, but DecisionTreeClassifier was fitted with feature names\n",
      "  warnings.warn(\n"
     ]
    }
   ],
   "source": [
    "#### Now, let us pass the 1st point(3.0,6.1) to the 3 models to perform the prediction on the point.\n",
    "### We will pass the same point to all 3 models which we trained individually.\n",
    "\n",
    "print('Predictor 1',dt_bag1.predict(np.array([3.0,6.1]).reshape(1,2)))\n",
    "print('Predictor 2',dt_bag2.predict(np.array([3.0,6.1]).reshape(1,2)))\n",
    "print('Predictor 3',dt_bag3.predict(np.array([3.0,6.1]).reshape(1,2)))"
   ]
  },
  {
   "cell_type": "markdown",
   "id": "01b37055",
   "metadata": {},
   "source": [
    "#### All 3 models are predicting output as 2. Hence, output will be 2"
   ]
  },
  {
   "cell_type": "markdown",
   "id": "4b6eb352",
   "metadata": {},
   "source": [
    "#### Until now, we did row sampling. We can also perform Column sampling i.e., pass  few columns for one model and other few columns to other model "
   ]
  },
  {
   "cell_type": "markdown",
   "id": "0b36e069",
   "metadata": {},
   "source": [
    "#### Column sampling is useful during high dimensional data. This is called Random Sub spaces"
   ]
  },
  {
   "cell_type": "code",
   "execution_count": 74,
   "id": "94b510fc",
   "metadata": {},
   "outputs": [],
   "source": [
    " ### To perform column sampling:\n",
    "    \n",
    "df1 = pd.read_csv('Iris.csv')\n",
    "df1 = df1.sample(10)"
   ]
  },
  {
   "cell_type": "code",
   "execution_count": 76,
   "id": "90a5b776",
   "metadata": {},
   "outputs": [
    {
     "data": {
      "text/html": [
       "<div>\n",
       "<style scoped>\n",
       "    .dataframe tbody tr th:only-of-type {\n",
       "        vertical-align: middle;\n",
       "    }\n",
       "\n",
       "    .dataframe tbody tr th {\n",
       "        vertical-align: top;\n",
       "    }\n",
       "\n",
       "    .dataframe thead th {\n",
       "        text-align: right;\n",
       "    }\n",
       "</style>\n",
       "<table border=\"1\" class=\"dataframe\">\n",
       "  <thead>\n",
       "    <tr style=\"text-align: right;\">\n",
       "      <th></th>\n",
       "      <th>Id</th>\n",
       "      <th>SepalLengthCm</th>\n",
       "      <th>SepalWidthCm</th>\n",
       "      <th>PetalLengthCm</th>\n",
       "      <th>PetalWidthCm</th>\n",
       "      <th>Species</th>\n",
       "    </tr>\n",
       "  </thead>\n",
       "  <tbody>\n",
       "    <tr>\n",
       "      <th>116</th>\n",
       "      <td>117</td>\n",
       "      <td>6.5</td>\n",
       "      <td>3.0</td>\n",
       "      <td>5.5</td>\n",
       "      <td>1.8</td>\n",
       "      <td>Iris-virginica</td>\n",
       "    </tr>\n",
       "    <tr>\n",
       "      <th>21</th>\n",
       "      <td>22</td>\n",
       "      <td>5.1</td>\n",
       "      <td>3.7</td>\n",
       "      <td>1.5</td>\n",
       "      <td>0.4</td>\n",
       "      <td>Iris-setosa</td>\n",
       "    </tr>\n",
       "    <tr>\n",
       "      <th>22</th>\n",
       "      <td>23</td>\n",
       "      <td>4.6</td>\n",
       "      <td>3.6</td>\n",
       "      <td>1.0</td>\n",
       "      <td>0.2</td>\n",
       "      <td>Iris-setosa</td>\n",
       "    </tr>\n",
       "    <tr>\n",
       "      <th>30</th>\n",
       "      <td>31</td>\n",
       "      <td>4.8</td>\n",
       "      <td>3.1</td>\n",
       "      <td>1.6</td>\n",
       "      <td>0.2</td>\n",
       "      <td>Iris-setosa</td>\n",
       "    </tr>\n",
       "    <tr>\n",
       "      <th>25</th>\n",
       "      <td>26</td>\n",
       "      <td>5.0</td>\n",
       "      <td>3.0</td>\n",
       "      <td>1.6</td>\n",
       "      <td>0.2</td>\n",
       "      <td>Iris-setosa</td>\n",
       "    </tr>\n",
       "    <tr>\n",
       "      <th>44</th>\n",
       "      <td>45</td>\n",
       "      <td>5.1</td>\n",
       "      <td>3.8</td>\n",
       "      <td>1.9</td>\n",
       "      <td>0.4</td>\n",
       "      <td>Iris-setosa</td>\n",
       "    </tr>\n",
       "    <tr>\n",
       "      <th>41</th>\n",
       "      <td>42</td>\n",
       "      <td>4.5</td>\n",
       "      <td>2.3</td>\n",
       "      <td>1.3</td>\n",
       "      <td>0.3</td>\n",
       "      <td>Iris-setosa</td>\n",
       "    </tr>\n",
       "    <tr>\n",
       "      <th>55</th>\n",
       "      <td>56</td>\n",
       "      <td>5.7</td>\n",
       "      <td>2.8</td>\n",
       "      <td>4.5</td>\n",
       "      <td>1.3</td>\n",
       "      <td>Iris-versicolor</td>\n",
       "    </tr>\n",
       "    <tr>\n",
       "      <th>79</th>\n",
       "      <td>80</td>\n",
       "      <td>5.7</td>\n",
       "      <td>2.6</td>\n",
       "      <td>3.5</td>\n",
       "      <td>1.0</td>\n",
       "      <td>Iris-versicolor</td>\n",
       "    </tr>\n",
       "    <tr>\n",
       "      <th>64</th>\n",
       "      <td>65</td>\n",
       "      <td>5.6</td>\n",
       "      <td>2.9</td>\n",
       "      <td>3.6</td>\n",
       "      <td>1.3</td>\n",
       "      <td>Iris-versicolor</td>\n",
       "    </tr>\n",
       "  </tbody>\n",
       "</table>\n",
       "</div>"
      ],
      "text/plain": [
       "      Id  SepalLengthCm  SepalWidthCm  PetalLengthCm  PetalWidthCm  \\\n",
       "116  117            6.5           3.0            5.5           1.8   \n",
       "21    22            5.1           3.7            1.5           0.4   \n",
       "22    23            4.6           3.6            1.0           0.2   \n",
       "30    31            4.8           3.1            1.6           0.2   \n",
       "25    26            5.0           3.0            1.6           0.2   \n",
       "44    45            5.1           3.8            1.9           0.4   \n",
       "41    42            4.5           2.3            1.3           0.3   \n",
       "55    56            5.7           2.8            4.5           1.3   \n",
       "79    80            5.7           2.6            3.5           1.0   \n",
       "64    65            5.6           2.9            3.6           1.3   \n",
       "\n",
       "             Species  \n",
       "116   Iris-virginica  \n",
       "21       Iris-setosa  \n",
       "22       Iris-setosa  \n",
       "30       Iris-setosa  \n",
       "25       Iris-setosa  \n",
       "44       Iris-setosa  \n",
       "41       Iris-setosa  \n",
       "55   Iris-versicolor  \n",
       "79   Iris-versicolor  \n",
       "64   Iris-versicolor  "
      ]
     },
     "execution_count": 76,
     "metadata": {},
     "output_type": "execute_result"
    }
   ],
   "source": [
    "df1"
   ]
  },
  {
   "cell_type": "code",
   "execution_count": 77,
   "id": "5a57ae6d",
   "metadata": {},
   "outputs": [
    {
     "data": {
      "text/html": [
       "<div>\n",
       "<style scoped>\n",
       "    .dataframe tbody tr th:only-of-type {\n",
       "        vertical-align: middle;\n",
       "    }\n",
       "\n",
       "    .dataframe tbody tr th {\n",
       "        vertical-align: top;\n",
       "    }\n",
       "\n",
       "    .dataframe thead th {\n",
       "        text-align: right;\n",
       "    }\n",
       "</style>\n",
       "<table border=\"1\" class=\"dataframe\">\n",
       "  <thead>\n",
       "    <tr style=\"text-align: right;\">\n",
       "      <th></th>\n",
       "      <th>Species</th>\n",
       "      <th>PetalLengthCm</th>\n",
       "    </tr>\n",
       "  </thead>\n",
       "  <tbody>\n",
       "    <tr>\n",
       "      <th>116</th>\n",
       "      <td>Iris-virginica</td>\n",
       "      <td>5.5</td>\n",
       "    </tr>\n",
       "    <tr>\n",
       "      <th>21</th>\n",
       "      <td>Iris-setosa</td>\n",
       "      <td>1.5</td>\n",
       "    </tr>\n",
       "    <tr>\n",
       "      <th>22</th>\n",
       "      <td>Iris-setosa</td>\n",
       "      <td>1.0</td>\n",
       "    </tr>\n",
       "    <tr>\n",
       "      <th>30</th>\n",
       "      <td>Iris-setosa</td>\n",
       "      <td>1.6</td>\n",
       "    </tr>\n",
       "    <tr>\n",
       "      <th>25</th>\n",
       "      <td>Iris-setosa</td>\n",
       "      <td>1.6</td>\n",
       "    </tr>\n",
       "    <tr>\n",
       "      <th>44</th>\n",
       "      <td>Iris-setosa</td>\n",
       "      <td>1.9</td>\n",
       "    </tr>\n",
       "    <tr>\n",
       "      <th>41</th>\n",
       "      <td>Iris-setosa</td>\n",
       "      <td>1.3</td>\n",
       "    </tr>\n",
       "    <tr>\n",
       "      <th>55</th>\n",
       "      <td>Iris-versicolor</td>\n",
       "      <td>4.5</td>\n",
       "    </tr>\n",
       "    <tr>\n",
       "      <th>79</th>\n",
       "      <td>Iris-versicolor</td>\n",
       "      <td>3.5</td>\n",
       "    </tr>\n",
       "    <tr>\n",
       "      <th>64</th>\n",
       "      <td>Iris-versicolor</td>\n",
       "      <td>3.6</td>\n",
       "    </tr>\n",
       "  </tbody>\n",
       "</table>\n",
       "</div>"
      ],
      "text/plain": [
       "             Species  PetalLengthCm\n",
       "116   Iris-virginica            5.5\n",
       "21       Iris-setosa            1.5\n",
       "22       Iris-setosa            1.0\n",
       "30       Iris-setosa            1.6\n",
       "25       Iris-setosa            1.6\n",
       "44       Iris-setosa            1.9\n",
       "41       Iris-setosa            1.3\n",
       "55   Iris-versicolor            4.5\n",
       "79   Iris-versicolor            3.5\n",
       "64   Iris-versicolor            3.6"
      ]
     },
     "execution_count": 77,
     "metadata": {},
     "output_type": "execute_result"
    }
   ],
   "source": [
    "## Column sample with replacement\n",
    "\n",
    "df1.sample(2,replace=True,axis=1)"
   ]
  },
  {
   "cell_type": "markdown",
   "id": "d3cb81d2",
   "metadata": {},
   "source": [
    "#### Random Patches\n",
    "\n",
    "Here, we use both row and column sampling.    "
   ]
  },
  {
   "cell_type": "code",
   "execution_count": 80,
   "id": "082bbe6d",
   "metadata": {},
   "outputs": [
    {
     "data": {
      "text/html": [
       "<div>\n",
       "<style scoped>\n",
       "    .dataframe tbody tr th:only-of-type {\n",
       "        vertical-align: middle;\n",
       "    }\n",
       "\n",
       "    .dataframe tbody tr th {\n",
       "        vertical-align: top;\n",
       "    }\n",
       "\n",
       "    .dataframe thead th {\n",
       "        text-align: right;\n",
       "    }\n",
       "</style>\n",
       "<table border=\"1\" class=\"dataframe\">\n",
       "  <thead>\n",
       "    <tr style=\"text-align: right;\">\n",
       "      <th></th>\n",
       "      <th>SepalWidthCm</th>\n",
       "      <th>SepalWidthCm</th>\n",
       "    </tr>\n",
       "  </thead>\n",
       "  <tbody>\n",
       "    <tr>\n",
       "      <th>96</th>\n",
       "      <td>2.9</td>\n",
       "      <td>2.9</td>\n",
       "    </tr>\n",
       "    <tr>\n",
       "      <th>57</th>\n",
       "      <td>2.4</td>\n",
       "      <td>2.4</td>\n",
       "    </tr>\n",
       "    <tr>\n",
       "      <th>126</th>\n",
       "      <td>2.8</td>\n",
       "      <td>2.8</td>\n",
       "    </tr>\n",
       "    <tr>\n",
       "      <th>115</th>\n",
       "      <td>3.2</td>\n",
       "      <td>3.2</td>\n",
       "    </tr>\n",
       "    <tr>\n",
       "      <th>95</th>\n",
       "      <td>3.0</td>\n",
       "      <td>3.0</td>\n",
       "    </tr>\n",
       "    <tr>\n",
       "      <th>66</th>\n",
       "      <td>3.0</td>\n",
       "      <td>3.0</td>\n",
       "    </tr>\n",
       "    <tr>\n",
       "      <th>124</th>\n",
       "      <td>3.3</td>\n",
       "      <td>3.3</td>\n",
       "    </tr>\n",
       "    <tr>\n",
       "      <th>129</th>\n",
       "      <td>3.0</td>\n",
       "      <td>3.0</td>\n",
       "    </tr>\n",
       "  </tbody>\n",
       "</table>\n",
       "</div>"
      ],
      "text/plain": [
       "     SepalWidthCm  SepalWidthCm\n",
       "96            2.9           2.9\n",
       "57            2.4           2.4\n",
       "126           2.8           2.8\n",
       "115           3.2           3.2\n",
       "95            3.0           3.0\n",
       "66            3.0           3.0\n",
       "124           3.3           3.3\n",
       "129           3.0           3.0"
      ]
     },
     "execution_count": 80,
     "metadata": {},
     "output_type": "execute_result"
    }
   ],
   "source": [
    "df.sample(8,replace=True).sample(2,replace=True,axis=1) ### Here, we are performing both row and column sampling"
   ]
  },
  {
   "cell_type": "markdown",
   "id": "cc82fa50",
   "metadata": {},
   "source": [
    "### BAGGING CLASSIFIER(USING SKLEARN):"
   ]
  },
  {
   "cell_type": "code",
   "execution_count": 82,
   "id": "cd10149c",
   "metadata": {},
   "outputs": [],
   "source": [
    "from sklearn.datasets import make_classification\n",
    "from sklearn.metrics import accuracy_score\n",
    "from sklearn.ensemble import BaggingClassifier\n",
    "from sklearn.tree import DecisionTreeClassifier\n",
    "from sklearn.svm import SVC\n",
    "from sklearn.model_selection import train_test_split"
   ]
  },
  {
   "cell_type": "code",
   "execution_count": 83,
   "id": "1e5bc0b4",
   "metadata": {},
   "outputs": [],
   "source": [
    "X,y = make_classification(n_samples=10000, n_features=10,n_informative=3)"
   ]
  },
  {
   "cell_type": "code",
   "execution_count": 84,
   "id": "b01c3034",
   "metadata": {},
   "outputs": [],
   "source": [
    "X_train,X_test,y_train,y_test = train_test_split(X,y,test_size=0.2,random_state=42)"
   ]
  },
  {
   "cell_type": "markdown",
   "id": "2e9b9b16",
   "metadata": {},
   "source": [
    "#### Training the DT model alone"
   ]
  },
  {
   "cell_type": "code",
   "execution_count": 86,
   "id": "6583306f",
   "metadata": {},
   "outputs": [
    {
     "name": "stdout",
     "output_type": "stream",
     "text": [
      "Decision Tree accuracy: 0.862\n"
     ]
    }
   ],
   "source": [
    "dt = DecisionTreeClassifier(random_state=42)\n",
    "dt.fit(X_train,y_train)\n",
    "y_pred = dt.predict(X_test)\n",
    "\n",
    "print(\"Decision Tree accuracy:\", accuracy_score(y_test,y_pred))"
   ]
  },
  {
   "cell_type": "markdown",
   "id": "6eae7359",
   "metadata": {},
   "source": [
    "#### Training using Bagging method"
   ]
  },
  {
   "cell_type": "code",
   "execution_count": 87,
   "id": "80b6c90d",
   "metadata": {},
   "outputs": [],
   "source": [
    "bag = BaggingClassifier(\n",
    "    base_estimator=DecisionTreeClassifier(),\n",
    "    n_estimators=500,\n",
    "    max_samples=0.25, ### Using 25% of training data set in each sample\n",
    "    bootstrap=True, ## Sampling with replacement\n",
    "    random_state=42\n",
    ")"
   ]
  },
  {
   "cell_type": "code",
   "execution_count": 88,
   "id": "9176e718",
   "metadata": {},
   "outputs": [
    {
     "data": {
      "text/html": [
       "<style>#sk-container-id-1 {color: black;background-color: white;}#sk-container-id-1 pre{padding: 0;}#sk-container-id-1 div.sk-toggleable {background-color: white;}#sk-container-id-1 label.sk-toggleable__label {cursor: pointer;display: block;width: 100%;margin-bottom: 0;padding: 0.3em;box-sizing: border-box;text-align: center;}#sk-container-id-1 label.sk-toggleable__label-arrow:before {content: \"▸\";float: left;margin-right: 0.25em;color: #696969;}#sk-container-id-1 label.sk-toggleable__label-arrow:hover:before {color: black;}#sk-container-id-1 div.sk-estimator:hover label.sk-toggleable__label-arrow:before {color: black;}#sk-container-id-1 div.sk-toggleable__content {max-height: 0;max-width: 0;overflow: hidden;text-align: left;background-color: #f0f8ff;}#sk-container-id-1 div.sk-toggleable__content pre {margin: 0.2em;color: black;border-radius: 0.25em;background-color: #f0f8ff;}#sk-container-id-1 input.sk-toggleable__control:checked~div.sk-toggleable__content {max-height: 200px;max-width: 100%;overflow: auto;}#sk-container-id-1 input.sk-toggleable__control:checked~label.sk-toggleable__label-arrow:before {content: \"▾\";}#sk-container-id-1 div.sk-estimator input.sk-toggleable__control:checked~label.sk-toggleable__label {background-color: #d4ebff;}#sk-container-id-1 div.sk-label input.sk-toggleable__control:checked~label.sk-toggleable__label {background-color: #d4ebff;}#sk-container-id-1 input.sk-hidden--visually {border: 0;clip: rect(1px 1px 1px 1px);clip: rect(1px, 1px, 1px, 1px);height: 1px;margin: -1px;overflow: hidden;padding: 0;position: absolute;width: 1px;}#sk-container-id-1 div.sk-estimator {font-family: monospace;background-color: #f0f8ff;border: 1px dotted black;border-radius: 0.25em;box-sizing: border-box;margin-bottom: 0.5em;}#sk-container-id-1 div.sk-estimator:hover {background-color: #d4ebff;}#sk-container-id-1 div.sk-parallel-item::after {content: \"\";width: 100%;border-bottom: 1px solid gray;flex-grow: 1;}#sk-container-id-1 div.sk-label:hover label.sk-toggleable__label {background-color: #d4ebff;}#sk-container-id-1 div.sk-serial::before {content: \"\";position: absolute;border-left: 1px solid gray;box-sizing: border-box;top: 0;bottom: 0;left: 50%;z-index: 0;}#sk-container-id-1 div.sk-serial {display: flex;flex-direction: column;align-items: center;background-color: white;padding-right: 0.2em;padding-left: 0.2em;position: relative;}#sk-container-id-1 div.sk-item {position: relative;z-index: 1;}#sk-container-id-1 div.sk-parallel {display: flex;align-items: stretch;justify-content: center;background-color: white;position: relative;}#sk-container-id-1 div.sk-item::before, #sk-container-id-1 div.sk-parallel-item::before {content: \"\";position: absolute;border-left: 1px solid gray;box-sizing: border-box;top: 0;bottom: 0;left: 50%;z-index: -1;}#sk-container-id-1 div.sk-parallel-item {display: flex;flex-direction: column;z-index: 1;position: relative;background-color: white;}#sk-container-id-1 div.sk-parallel-item:first-child::after {align-self: flex-end;width: 50%;}#sk-container-id-1 div.sk-parallel-item:last-child::after {align-self: flex-start;width: 50%;}#sk-container-id-1 div.sk-parallel-item:only-child::after {width: 0;}#sk-container-id-1 div.sk-dashed-wrapped {border: 1px dashed gray;margin: 0 0.4em 0.5em 0.4em;box-sizing: border-box;padding-bottom: 0.4em;background-color: white;}#sk-container-id-1 div.sk-label label {font-family: monospace;font-weight: bold;display: inline-block;line-height: 1.2em;}#sk-container-id-1 div.sk-label-container {text-align: center;}#sk-container-id-1 div.sk-container {/* jupyter's `normalize.less` sets `[hidden] { display: none; }` but bootstrap.min.css set `[hidden] { display: none !important; }` so we also need the `!important` here to be able to override the default hidden behavior on the sphinx rendered scikit-learn.org. See: https://github.com/scikit-learn/scikit-learn/issues/21755 */display: inline-block !important;position: relative;}#sk-container-id-1 div.sk-text-repr-fallback {display: none;}</style><div id=\"sk-container-id-1\" class=\"sk-top-container\"><div class=\"sk-text-repr-fallback\"><pre>BaggingClassifier(base_estimator=DecisionTreeClassifier(), max_samples=0.25,\n",
       "                  n_estimators=500, random_state=42)</pre><b>In a Jupyter environment, please rerun this cell to show the HTML representation or trust the notebook. <br />On GitHub, the HTML representation is unable to render, please try loading this page with nbviewer.org.</b></div><div class=\"sk-container\" hidden><div class=\"sk-item sk-dashed-wrapped\"><div class=\"sk-label-container\"><div class=\"sk-label sk-toggleable\"><input class=\"sk-toggleable__control sk-hidden--visually\" id=\"sk-estimator-id-1\" type=\"checkbox\" ><label for=\"sk-estimator-id-1\" class=\"sk-toggleable__label sk-toggleable__label-arrow\">BaggingClassifier</label><div class=\"sk-toggleable__content\"><pre>BaggingClassifier(base_estimator=DecisionTreeClassifier(), max_samples=0.25,\n",
       "                  n_estimators=500, random_state=42)</pre></div></div></div><div class=\"sk-parallel\"><div class=\"sk-parallel-item\"><div class=\"sk-item\"><div class=\"sk-label-container\"><div class=\"sk-label sk-toggleable\"><input class=\"sk-toggleable__control sk-hidden--visually\" id=\"sk-estimator-id-2\" type=\"checkbox\" ><label for=\"sk-estimator-id-2\" class=\"sk-toggleable__label sk-toggleable__label-arrow\">base_estimator: DecisionTreeClassifier</label><div class=\"sk-toggleable__content\"><pre>DecisionTreeClassifier()</pre></div></div></div><div class=\"sk-serial\"><div class=\"sk-item\"><div class=\"sk-estimator sk-toggleable\"><input class=\"sk-toggleable__control sk-hidden--visually\" id=\"sk-estimator-id-3\" type=\"checkbox\" ><label for=\"sk-estimator-id-3\" class=\"sk-toggleable__label sk-toggleable__label-arrow\">DecisionTreeClassifier</label><div class=\"sk-toggleable__content\"><pre>DecisionTreeClassifier()</pre></div></div></div></div></div></div></div></div></div></div>"
      ],
      "text/plain": [
       "BaggingClassifier(base_estimator=DecisionTreeClassifier(), max_samples=0.25,\n",
       "                  n_estimators=500, random_state=42)"
      ]
     },
     "execution_count": 88,
     "metadata": {},
     "output_type": "execute_result"
    }
   ],
   "source": [
    "bag.fit(X_train,y_train)"
   ]
  },
  {
   "cell_type": "code",
   "execution_count": 89,
   "id": "0c104692",
   "metadata": {},
   "outputs": [],
   "source": [
    "y_pred = bag.predict(X_test)"
   ]
  },
  {
   "cell_type": "code",
   "execution_count": 90,
   "id": "9661b0bf",
   "metadata": {},
   "outputs": [
    {
     "data": {
      "text/plain": [
       "0.917"
      ]
     },
     "execution_count": 90,
     "metadata": {},
     "output_type": "execute_result"
    }
   ],
   "source": [
    "accuracy_score(y_test,y_pred)"
   ]
  },
  {
   "cell_type": "code",
   "execution_count": 92,
   "id": "8a1490ab",
   "metadata": {},
   "outputs": [
    {
     "data": {
      "text/plain": [
       "[array([2523, 3113, 7114, ..., 4291, 4472, 3620]),\n",
       " array([4782,  663, 7155, ..., 5963,  495, 1767]),\n",
       " array([5462, 6574, 4896, ..., 3979, 7827,   37]),\n",
       " array([2848, 2629, 1591, ..., 7723, 1314, 1565]),\n",
       " array([3821, 6494, 1606, ..., 5686, 7870, 2558]),\n",
       " array([2261, 7922, 3649, ..., 4478, 6286, 6943]),\n",
       " array([ 652, 1676, 2291, ..., 2723, 7007, 6344]),\n",
       " array([2478, 4107, 1958, ..., 7979, 5695, 7854]),\n",
       " array([5800, 3548, 6540, ..., 3899,  831,   55]),\n",
       " array([5256, 7181, 3409, ..., 5286, 7535, 1335]),\n",
       " array([2675, 2834, 3817, ..., 1726, 2323, 7642]),\n",
       " array([3236, 7607, 4600, ...,  445, 7501, 6604]),\n",
       " array([4563, 4137, 6298, ..., 6611, 3023, 5529]),\n",
       " array([2816, 5343, 5817, ..., 3197, 2917, 5775]),\n",
       " array([2448, 2733, 5480, ...,  747, 5842,   69]),\n",
       " array([4248, 3828, 4630, ..., 1284, 2542, 3370]),\n",
       " array([4815, 1867,  503, ..., 4692, 7952, 4855]),\n",
       " array([1688, 4132, 5218, ..., 2491, 1876,  471]),\n",
       " array([4167, 2900, 3602, ..., 2974, 5705, 1466]),\n",
       " array([2920, 7645, 5452, ..., 7483, 1579, 2203]),\n",
       " array([6197, 7231,  152, ..., 5886, 7616,  394]),\n",
       " array([3276, 2364, 2494, ..., 5881, 3469, 1704]),\n",
       " array([4815, 2353, 7277, ..., 5948, 4758, 7374]),\n",
       " array([7960, 6076, 2040, ..., 2057, 3852, 1831]),\n",
       " array([2219, 7521, 7940, ..., 2756,  570, 6392]),\n",
       " array([5748, 4641, 5227, ..., 1278,  118, 6453]),\n",
       " array([2808,  664, 5968, ..., 6232, 2066, 1364]),\n",
       " array([6319, 7277, 5250, ...,  225,  840, 7636]),\n",
       " array([ 923, 7746, 7867, ..., 5181, 3027,  249]),\n",
       " array([3389, 3819, 2072, ..., 1759, 7088, 1249]),\n",
       " array([5594, 3699, 4460, ...,  408, 2346, 4199]),\n",
       " array([ 535, 5878,  205, ..., 5654, 4108, 3297]),\n",
       " array([2195, 3727, 3513, ...,  188, 4841,  894]),\n",
       " array([6916, 4325, 2320, ..., 4323, 6837, 6500]),\n",
       " array([6205, 7636, 4408, ..., 1073, 2311,  154]),\n",
       " array([4505, 7922, 2939, ..., 7509, 2334, 2542]),\n",
       " array([1464, 2932, 5902, ...,  109, 7150, 4820]),\n",
       " array([3945, 6823, 1849, ..., 7794,  417, 1090]),\n",
       " array([2664, 6408, 7769, ..., 3417, 1421, 1134]),\n",
       " array([7023, 2635, 7720, ..., 4881, 4537, 2903]),\n",
       " array([2907, 4393, 1214, ..., 5683, 6393, 3757]),\n",
       " array([ 327, 3655, 3889, ..., 7936, 7580, 6750]),\n",
       " array([7622, 4161, 3772, ..., 5042, 2687, 5166]),\n",
       " array([1170, 7843, 5689, ..., 2718, 5814, 1477]),\n",
       " array([5926, 3864,    7, ..., 2390, 4546, 4860]),\n",
       " array([6588, 6828, 2974, ..., 3273, 7450, 2062]),\n",
       " array([4430, 6604, 2913, ..., 3096, 7882, 1273]),\n",
       " array([5324, 1853, 6925, ...,  722, 7213, 7385]),\n",
       " array([6241, 2416, 3253, ..., 4650, 4025, 4686]),\n",
       " array([4922, 3735,  371, ..., 5406, 7156, 4315]),\n",
       " array([2854, 4623, 3436, ..., 2708, 3326,  953]),\n",
       " array([1222,   12, 6505, ..., 3862, 2874, 7745]),\n",
       " array([7825, 3711, 3559, ..., 2508, 2225, 6893]),\n",
       " array([4443, 7899,  612, ..., 4716, 7709, 7287]),\n",
       " array([ 339, 5168, 3346, ..., 7736, 4194, 7858]),\n",
       " array([3597, 3902, 2011, ..., 7897, 7043, 7607]),\n",
       " array([3788, 7541,  823, ..., 3200, 4322, 4579]),\n",
       " array([2392, 5649, 6815, ..., 1996, 1907, 6699]),\n",
       " array([2838, 2902, 4467, ..., 4696, 3156, 3241]),\n",
       " array([5185, 2864, 3414, ..., 4797, 5038, 3680]),\n",
       " array([4456, 3692, 7366, ..., 2042,  238, 4535]),\n",
       " array([5062, 3290, 4829, ..., 6102, 5631, 1511]),\n",
       " array([ 307, 7032, 5247, ..., 3489, 7962, 4092]),\n",
       " array([3971, 3386, 3847, ..., 5278, 6549, 7905]),\n",
       " array([4388, 6434, 5879, ..., 3920, 4769, 3803]),\n",
       " array([5039, 7190, 4577, ..., 1841, 5152, 3269]),\n",
       " array([3489, 4215,  971, ..., 5059, 6082, 5884]),\n",
       " array([1112, 2310, 1767, ..., 2409, 1768,  366]),\n",
       " array([4992, 3115, 4796, ..., 3433, 2809, 4891]),\n",
       " array([4879, 3195, 6085, ..., 6612,  384, 1985]),\n",
       " array([7398, 1007, 7093, ..., 3869, 6401, 3787]),\n",
       " array([7338, 3480, 7987, ..., 1066, 4667, 1005]),\n",
       " array([ 997, 1565, 1199, ..., 1077, 4138, 1809]),\n",
       " array([7056, 2746, 1665, ..., 3547,  623, 3021]),\n",
       " array([6288, 7431, 6427, ..., 5481, 7755,   69]),\n",
       " array([7466,  234, 2961, ..., 4202, 3745,   30]),\n",
       " array([5112,  884,  518, ...,  342,  287, 7934]),\n",
       " array([6061, 6434, 6843, ..., 5979, 3913, 3607]),\n",
       " array([5479, 1299,  222, ..., 7040,  402, 3951]),\n",
       " array([1407, 2124,  413, ..., 7246, 2413, 3709]),\n",
       " array([2766, 3879, 5552, ...,  357, 2294, 7996]),\n",
       " array([7064, 2811, 7938, ..., 1948,   28, 1534]),\n",
       " array([4182, 5301, 7533, ...,  774, 5287, 4856]),\n",
       " array([7357, 2481, 3233, ..., 2807, 4537, 3528]),\n",
       " array([7199,  868,  274, ..., 7390, 2837, 5363]),\n",
       " array([5614, 3999, 6124, ...,  729, 1259, 7622]),\n",
       " array([7989, 6724, 4241, ..., 3007, 6466, 2979]),\n",
       " array([6999, 4444, 5768, ...,  487, 7343, 1061]),\n",
       " array([1109, 6121, 4061, ..., 5191, 2666,  795]),\n",
       " array([4011, 5596, 4846, ..., 2682, 2656,  482]),\n",
       " array([5581, 1635, 5238, ..., 6771, 6719,  151]),\n",
       " array([7018, 4000, 1773, ..., 6328, 2814, 4194]),\n",
       " array([4214, 4037, 1028, ..., 2655, 6864, 5400]),\n",
       " array([1749, 3904, 2220, ..., 7026, 4285,  110]),\n",
       " array([7718, 6982, 6648, ..., 1832, 2292, 3997]),\n",
       " array([7211, 6025, 6527, ..., 4148, 7654, 2556]),\n",
       " array([6056, 7035, 5970, ...,  771, 2852, 3649]),\n",
       " array([2386, 7482, 5505, ..., 4363, 6722, 4868]),\n",
       " array([  94, 7651, 2459, ..., 4708, 4784, 4378]),\n",
       " array([1550, 3478, 1007, ..., 7182, 3095, 2338]),\n",
       " array([ 262, 6847,  883, ..., 4321, 5968, 3837]),\n",
       " array([ 249, 7086, 5044, ..., 3208, 3542, 7144]),\n",
       " array([2488, 2990, 7882, ..., 7334,  574,  184]),\n",
       " array([6045,  626, 5743, ..., 1860, 1163, 4593]),\n",
       " array([2997, 5990, 2499, ..., 7911, 1398, 4760]),\n",
       " array([1248, 3096, 1597, ...,  104, 6136, 4189]),\n",
       " array([4121, 6083, 5154, ..., 7688, 1277,  412]),\n",
       " array([3437, 3547, 7011, ..., 6417, 3883, 7641]),\n",
       " array([6930,  894, 6937, ..., 7039, 1723, 4325]),\n",
       " array([5764, 7324,  507, ..., 6643, 6387, 6315]),\n",
       " array([ 954, 3784, 3669, ..., 7232, 1792,  971]),\n",
       " array([7598,  167, 2997, ..., 5484, 1984, 2325]),\n",
       " array([7262, 5899, 3208, ..., 6454, 5817, 7306]),\n",
       " array([7606, 4229,  284, ..., 3285, 3065, 4610]),\n",
       " array([4346, 5228, 2281, ..., 1605, 5091, 6354]),\n",
       " array([1019, 5376, 2422, ..., 4981, 4387, 6761]),\n",
       " array([2783, 7574, 2948, ..., 6876, 2325, 7515]),\n",
       " array([7049, 2844, 7370, ..., 5580, 7314, 6701]),\n",
       " array([7778, 3062, 4654, ..., 1350, 3232, 5435]),\n",
       " array([5545,  793, 4820, ..., 5229, 3290, 6686]),\n",
       " array([7757, 2402, 1255, ..., 1077, 6526, 4288]),\n",
       " array([6814, 6242, 3613, ..., 2755, 6213, 7285]),\n",
       " array([ 834, 3276,   27, ..., 4935,  870,  822]),\n",
       " array([1320, 1986,  305, ..., 5722, 5372, 1420]),\n",
       " array([1647, 7291, 6546, ..., 7690, 2805, 5142]),\n",
       " array([3920, 1162, 2346, ..., 4188, 3193, 3951]),\n",
       " array([6048, 2001, 2883, ..., 5202, 7082, 3241]),\n",
       " array([4910, 5493, 6797, ..., 2717, 4906, 4713]),\n",
       " array([1386, 1029, 4646, ..., 4761, 1992, 5192]),\n",
       " array([4360, 1793, 2776, ..., 5270, 5253, 3926]),\n",
       " array([3602, 7904, 3694, ..., 4029, 2087, 5547]),\n",
       " array([7345, 2844, 7469, ..., 4278, 2465, 2094]),\n",
       " array([4957, 3033, 3926, ..., 6009,  341, 7705]),\n",
       " array([2189, 6472, 7086, ..., 3812, 7038, 7574]),\n",
       " array([6854,  681, 3089, ..., 7760, 1958, 7320]),\n",
       " array([1497, 4080, 6335, ..., 5056, 6361, 2985]),\n",
       " array([1624, 7011, 2745, ..., 4922, 7108, 4877]),\n",
       " array([5469, 1964, 2632, ..., 3928, 6636,  324]),\n",
       " array([ 321, 4808, 2501, ..., 7220, 5495, 5834]),\n",
       " array([5960, 4454, 4046, ..., 2118, 5655, 1524]),\n",
       " array([ 695, 7973, 6012, ..., 6611,  884, 6772]),\n",
       " array([1018, 3047,  391, ..., 2978,  875,  957]),\n",
       " array([4069,  901, 5370, ..., 3764, 3683, 3094]),\n",
       " array([3096, 5872, 1879, ..., 1247, 2972, 5616]),\n",
       " array([3284, 5414, 1101, ..., 6212, 2569, 5331]),\n",
       " array([1720, 1553, 6252, ..., 7157,  359, 6635]),\n",
       " array([1267, 3520, 7589, ..., 1016, 5754, 1132]),\n",
       " array([2774, 4305, 6938, ..., 5329, 3731, 4713]),\n",
       " array([ 214, 5268, 1108, ..., 2246, 7623, 6330]),\n",
       " array([5246, 7834,  408, ..., 4889, 5612, 5634]),\n",
       " array([2008,  654, 4825, ..., 6285, 3024, 1319]),\n",
       " array([2842, 5228,  498, ...,  720, 2642, 1668]),\n",
       " array([ 464, 4143, 7047, ..., 3885, 2773, 4878]),\n",
       " array([1660, 2210,  761, ..., 5340, 7179,  284]),\n",
       " array([6691, 5977, 1461, ..., 4861, 7437, 4011]),\n",
       " array([4924, 5085, 7093, ...,  877, 2690, 4518]),\n",
       " array([2361, 5277, 2273, ..., 1496, 2619, 4341]),\n",
       " array([6133, 3457, 5593, ..., 3683, 1078, 2408]),\n",
       " array([5955, 3501, 4906, ..., 5440, 5084, 4907]),\n",
       " array([3590, 4385, 2619, ..., 7119,  553,  606]),\n",
       " array([5705, 3200, 6595, ..., 4083, 5729, 5564]),\n",
       " array([4634, 6575, 3253, ..., 1112, 5254, 6284]),\n",
       " array([1831, 4214, 4344, ..., 4469,  269, 1478]),\n",
       " array([1959, 7321, 5905, ..., 2374, 1094, 6633]),\n",
       " array([3134, 4285, 6574, ..., 4571, 4491, 1758]),\n",
       " array([5428,  876,  138, ..., 2077, 2177, 5991]),\n",
       " array([4701, 5719, 5128, ..., 1884, 1013, 6383]),\n",
       " array([4729, 7757, 7896, ..., 1958, 4875, 2810]),\n",
       " array([1773, 6219, 2440, ..., 2891, 7357, 4221]),\n",
       " array([6254, 1723, 5539, ..., 4892, 3416, 3179]),\n",
       " array([6814, 2536, 2492, ..., 6350, 2016, 5435]),\n",
       " array([4227, 7908, 4022, ...,  146,  135, 6642]),\n",
       " array([7153, 5160, 2546, ..., 2806, 6147, 2497]),\n",
       " array([6637,   53, 1016, ..., 5674,  905, 6338]),\n",
       " array([4121, 1272, 7615, ..., 3030, 4806, 7104]),\n",
       " array([7953, 7661, 4824, ..., 1526, 4635, 5818]),\n",
       " array([4771, 4747, 7366, ..., 2998, 5653, 4604]),\n",
       " array([2962, 6742, 6352, ..., 5115, 3801, 6288]),\n",
       " array([6267,  557, 7585, ..., 6703, 7604,   53]),\n",
       " array([3014, 7342,  892, ..., 2141, 5878, 6533]),\n",
       " array([  79, 4620, 7927, ..., 2161, 7701, 6326]),\n",
       " array([2877, 3307, 5074, ..., 6959, 5250, 2528]),\n",
       " array([3696, 4688, 1202, ..., 6835, 7574, 1115]),\n",
       " array([4509, 5272, 3499, ..., 1070, 7887,  498]),\n",
       " array([2785, 4826, 3336, ..., 5146, 7298, 5321]),\n",
       " array([3562, 5101, 4787, ..., 3345, 3919, 2520]),\n",
       " array([6697, 6228, 2112, ..., 6014, 5673, 1510]),\n",
       " array([4493, 4452, 6121, ..., 5908, 1767, 5832]),\n",
       " array([6724, 1350, 7725, ..., 1748, 3947, 7488]),\n",
       " array([6229, 6682, 7919, ..., 2582, 3028,  204]),\n",
       " array([7855, 1433, 4616, ..., 3705,   21, 7707]),\n",
       " array([1582, 4662, 1313, ..., 5942, 7923, 3650]),\n",
       " array([3424, 1806, 5185, ..., 6452, 3572,  600]),\n",
       " array([ 476, 4761,  774, ..., 1728, 4349, 7433]),\n",
       " array([5207, 2270, 5314, ..., 3097, 4884,  578]),\n",
       " array([3309,  791, 5038, ..., 7835, 2509, 1665]),\n",
       " array([ 606, 7119, 1970, ..., 4189, 2859, 7652]),\n",
       " array([2355, 2309, 7064, ...,  614, 1939,  631]),\n",
       " array([2216, 6187, 7140, ...,  198, 4578, 1706]),\n",
       " array([3420, 3079, 7794, ..., 4513, 6250, 5376]),\n",
       " array([ 410, 2122, 1276, ..., 3259, 1672, 1013]),\n",
       " array([5955, 4460, 6687, ..., 7230, 4253, 1473]),\n",
       " array([5982,  458, 2509, ..., 3094, 4517, 5435]),\n",
       " array([4411, 4101, 3658, ..., 1989, 5330, 3498]),\n",
       " array([4816, 6258, 4451, ..., 1875, 1980, 5412]),\n",
       " array([1232, 2504, 1551, ..., 3102, 7163, 7328]),\n",
       " array([5609, 5787, 3354, ..., 6689,  384, 1934]),\n",
       " array([2309, 5558, 6234, ..., 7920, 7085,  300]),\n",
       " array([ 146,  263, 7250, ..., 3793, 7099, 2985]),\n",
       " array([4741, 2417, 7937, ..., 1998, 4649, 2367]),\n",
       " array([3916, 3207, 6232, ..., 2085, 2085, 6595]),\n",
       " array([4807, 7095,  279, ..., 7896, 2429, 6663]),\n",
       " array([7597, 2487, 4512, ..., 7387, 6650, 6123]),\n",
       " array([1971, 6354, 6599, ..., 2706, 4657, 3583]),\n",
       " array([3216, 4227, 7029, ..., 7941, 1420, 1392]),\n",
       " array([2503, 4862, 7341, ..., 4698, 1295, 4575]),\n",
       " array([6040, 7837, 1400, ...,  141, 7065, 2975]),\n",
       " array([ 376, 4168, 1708, ...,  640, 2834, 2686]),\n",
       " array([5705, 5713, 2634, ..., 4269, 5073, 5746]),\n",
       " array([ 884, 4736, 1018, ..., 1629, 1647, 6496]),\n",
       " array([ 226, 7798, 7491, ..., 2699, 7949, 2718]),\n",
       " array([3229, 4880, 3713, ..., 1629, 2757, 5714]),\n",
       " array([3564, 6238,  207, ..., 7005, 5274, 1864]),\n",
       " array([5036, 7182, 5432, ..., 4969, 6446, 7031]),\n",
       " array([4342, 4125, 6881, ..., 4610,  768, 2619]),\n",
       " array([3525, 5049, 1344, ..., 7809, 1328, 3409]),\n",
       " array([6589, 2933, 5683, ..., 3435, 2581, 6956]),\n",
       " array([2528,  451, 7102, ...,  952, 1159, 7033]),\n",
       " array([3833,  777, 1498, ..., 4443, 3824, 5719]),\n",
       " array([ 103, 2242, 2226, ...,   41, 2563, 4375]),\n",
       " array([5561, 3659, 5548, ...,  918,  137, 2177]),\n",
       " array([6658,  277,  916, ..., 3074, 6460, 3642]),\n",
       " array([3406, 1908, 4443, ..., 1388, 7336,  819]),\n",
       " array([7438, 5059, 6371, ..., 5125, 6478, 5221]),\n",
       " array([5640, 1972, 5440, ..., 1875, 4903, 4074]),\n",
       " array([7020,  644, 2061, ..., 1553, 4786,  335]),\n",
       " array([6556,   60, 7191, ...,  542,  700, 4011]),\n",
       " array([  33, 7837,  331, ..., 2918,  990,  194]),\n",
       " array([7066, 2218, 7488, ...,  929, 2143, 6874]),\n",
       " array([ 744, 4287, 2927, ..., 2128, 7894, 5199]),\n",
       " array([3429, 7341, 1686, ..., 2539, 7275, 1645]),\n",
       " array([7249, 4994, 6149, ...,   23, 5352, 4833]),\n",
       " array([6481, 1981, 3674, ..., 1617, 3231, 2272]),\n",
       " array([6747, 4485, 1925, ..., 7410, 6618, 2088]),\n",
       " array([ 711, 7933, 4177, ..., 4240, 4043, 4026]),\n",
       " array([5580, 4187,  337, ..., 3874, 7493, 5319]),\n",
       " array([ 477,  895, 4467, ..., 5481, 4168,  971]),\n",
       " array([5866, 4228, 6677, ..., 2565, 6048, 5105]),\n",
       " array([3208, 2127, 3758, ...,  446, 2800, 7903]),\n",
       " array([6069, 4820, 5283, ..., 4626, 1095, 5676]),\n",
       " array([ 146, 1807, 5407, ..., 4564, 5429, 3335]),\n",
       " array([6521,  198, 7838, ..., 6043, 4022, 5186]),\n",
       " array([1999, 6455, 1335, ..., 1894, 3630, 3223]),\n",
       " array([7985, 1433, 5590, ..., 5264, 1341, 3534]),\n",
       " array([3773, 5131, 2514, ..., 4671, 3333,  963]),\n",
       " array([4860,  517, 7235, ..., 5681, 1007, 1231]),\n",
       " array([4017, 1084, 2865, ..., 4909, 5232, 2145]),\n",
       " array([1198, 5632, 6928, ..., 5190, 4889, 6749]),\n",
       " array([4162, 2771, 1351, ..., 2995, 5183, 2495]),\n",
       " array([5698, 4815, 6193, ..., 4314, 6677, 5398]),\n",
       " array([4169, 7290, 6464, ..., 5278, 4299, 1767]),\n",
       " array([3900, 6961, 7617, ..., 1695, 5497,  832]),\n",
       " array([6946,  715, 1379, ..., 7210, 2288, 7137]),\n",
       " array([7478, 6339, 3084, ..., 2560, 3359, 7825]),\n",
       " array([3168, 2271, 5383, ..., 5353, 5227, 5016]),\n",
       " array([5985, 4947, 3682, ...,  976, 5415, 5310]),\n",
       " array([1254, 1440, 5082, ..., 3217, 7298, 6803]),\n",
       " array([4680, 2834, 4343, ...,  995, 4528, 3037]),\n",
       " array([3190, 6921, 1638, ..., 6862, 1096, 7827]),\n",
       " array([ 508, 4436, 4142, ..., 5258, 4592, 1199]),\n",
       " array([5482,  123, 4262, ..., 1906,   99, 1499]),\n",
       " array([ 479, 5746, 5526, ..., 2633, 2438, 6384]),\n",
       " array([6889,  677, 1498, ...,  333, 5083, 5025]),\n",
       " array([4157, 4462, 2677, ..., 5577, 6538, 6068]),\n",
       " array([6013, 2026, 1552, ..., 1479, 5723, 7098]),\n",
       " array([2432, 1586,  429, ..., 7744, 4287,   20]),\n",
       " array([4691, 1594, 5437, ..., 3514, 4875, 1795]),\n",
       " array([3690, 4227, 6862, ..., 5124, 6852, 5513]),\n",
       " array([2247, 3874, 1643, ..., 3822, 6659,   50]),\n",
       " array([5011, 1037, 6899, ...,  261,  249, 5476]),\n",
       " array([7026, 6123, 4529, ...,  959, 3516, 6468]),\n",
       " array([7382,  716, 6007, ..., 7614, 6715, 2086]),\n",
       " array([5754, 5289, 4707, ..., 7663,  667, 6230]),\n",
       " array([6045, 4691, 1179, ...,  749, 3788, 7264]),\n",
       " array([3322, 1804,  841, ..., 2693, 5739,   55]),\n",
       " array([5729, 1887, 3395, ...,  847, 4886, 3412]),\n",
       " array([ 920, 7609,  933, ..., 7208, 7978, 7736]),\n",
       " array([1633, 5570, 4892, ..., 3372, 5967, 2826]),\n",
       " array([5828, 4797,  594, ..., 3218, 5264, 3356]),\n",
       " array([7132, 3972, 6516, ..., 1386, 2697, 4858]),\n",
       " array([ 270, 7209, 4608, ..., 6016, 4709, 3649]),\n",
       " array([4774, 5774, 2332, ...,   78, 2961, 4786]),\n",
       " array([7648,  465, 4500, ..., 7934,  856,  533]),\n",
       " array([7240, 4986, 6532, ..., 6287, 1063, 4958]),\n",
       " array([3167, 7157, 1297, ..., 6572, 6362, 3672]),\n",
       " array([6020, 7900, 4750, ..., 6575, 3320, 7172]),\n",
       " array([6346, 2236, 7119, ..., 6457, 3853, 7740]),\n",
       " array([6887, 2708,  649, ..., 1019, 2640, 1302]),\n",
       " array([6379, 4767, 6396, ..., 5565,  816, 7930]),\n",
       " array([7065, 3316, 1949, ..., 6914, 4542, 6813]),\n",
       " array([5139, 6385, 2986, ..., 4518, 3263, 4570]),\n",
       " array([5780, 5659, 1392, ..., 1018, 6305, 3397]),\n",
       " array([4147,  935, 3923, ..., 2922, 4769,  361]),\n",
       " array([2446, 3600, 3610, ..., 4329,  807, 6925]),\n",
       " array([5370, 2551, 2131, ..., 2273, 6155, 6700]),\n",
       " array([1143, 6489,  648, ...,  743, 2114, 3197]),\n",
       " array([5803, 3313, 1058, ...,  988, 7483, 5537]),\n",
       " array([6921, 2375, 7181, ..., 2303, 3500, 3709]),\n",
       " array([4904, 4470,  590, ..., 7781,  815, 7905]),\n",
       " array([7466,  712,  726, ..., 2404, 7321, 5547]),\n",
       " array([6081, 2174, 4972, ..., 2166, 3946, 5456]),\n",
       " array([6970, 5019,  742, ..., 3629, 2900, 2877]),\n",
       " array([4318,  532, 1576, ..., 6784, 7655, 4430]),\n",
       " array([3435, 5423, 7381, ..., 6087,  124, 5247]),\n",
       " array([7949, 1891, 4291, ..., 4041, 1081,  443]),\n",
       " array([1720, 4728, 6729, ...,  633, 1443, 6001]),\n",
       " array([1622, 6126, 3619, ...,  216, 6774, 2783]),\n",
       " array([4598, 2138, 2263, ...,   24, 7782, 7870]),\n",
       " array([7177, 5491, 7914, ..., 2705, 1681, 4889]),\n",
       " array([4560, 1034, 1206, ..., 1022, 4093, 6929]),\n",
       " array([1097,  385,  822, ..., 2931, 4150,  790]),\n",
       " array([3865, 6792, 2956, ..., 1565, 1644, 4142]),\n",
       " array([5400, 5809, 6638, ..., 1359, 7683, 5595]),\n",
       " array([6378, 7135, 5270, ...,  603, 2460, 7879]),\n",
       " array([4862, 3425, 2314, ..., 2787, 7890, 3796]),\n",
       " array([3015, 3816, 1901, ..., 1304, 7857, 2311]),\n",
       " array([6222, 3950, 6832, ..., 1565, 3794, 2405]),\n",
       " array([1083, 6486,  848, ..., 5770, 1783, 5994]),\n",
       " array([ 898, 6437, 2897, ..., 2695, 6664,  482]),\n",
       " array([  90, 1755,  601, ..., 1648,  672,  895]),\n",
       " array([4556, 6952, 6894, ..., 1301, 5530, 5740]),\n",
       " array([2852, 4807, 7184, ..., 1043, 6266, 5177]),\n",
       " array([1828, 1564, 1288, ..., 4258, 2049, 1226]),\n",
       " array([4743, 7641, 7547, ..., 4533, 3870, 6521]),\n",
       " array([2851, 5049, 3825, ..., 5471, 3969,  874]),\n",
       " array([3384,  270, 5590, ..., 7811, 2351,  644]),\n",
       " array([6418, 6496, 1012, ..., 3464, 7813, 7387]),\n",
       " array([7716,  151, 5344, ..., 1361,  784, 6485]),\n",
       " array([1525, 6181, 2816, ...,  475, 3586, 7980]),\n",
       " array([2879, 1430, 6482, ...,  973, 3649, 5352]),\n",
       " array([2644, 1050, 5110, ..., 5156, 4915, 2478]),\n",
       " array([4322, 7648, 1906, ..., 6230, 4125, 5101]),\n",
       " array([4404, 5905,  847, ..., 1225, 3348,   87]),\n",
       " array([7314,  347, 5291, ..., 3013, 2044,  667]),\n",
       " array([ 220, 2715, 7978, ..., 4162, 3345, 3098]),\n",
       " array([6508,  464, 5612, ...,  852,  871, 5664]),\n",
       " array([6788, 4693, 1454, ..., 3563, 2921, 1052]),\n",
       " array([ 257, 5159,  893, ...,  874, 5239, 3751]),\n",
       " array([1977, 5381, 2282, ..., 1661,  914,  487]),\n",
       " array([4585, 1532, 1412, ..., 6289, 7224, 5722]),\n",
       " array([1570, 7438,   31, ..., 1888, 1890,  694]),\n",
       " array([6020, 4277, 6319, ..., 1453,  193, 6818]),\n",
       " array([3903, 6657, 4483, ..., 6347, 6921, 2504]),\n",
       " array([7534, 7886, 2923, ...,  973, 1616, 5211]),\n",
       " array([7799, 3121, 2793, ..., 7649, 3442, 4621]),\n",
       " array([6910,  971,   40, ..., 1184,  704, 3180]),\n",
       " array([7675, 6067, 3997, ..., 5083, 1609, 3314]),\n",
       " array([5606, 3580, 2995, ..., 3005, 7076, 6724]),\n",
       " array([3501,  654, 1261, ..., 4362, 3776, 2115]),\n",
       " array([4443, 4559, 4339, ..., 2426, 4104, 6752]),\n",
       " array([3888, 5735, 6300, ...,  563, 2583, 6236]),\n",
       " array([4707, 1970,  950, ..., 5081, 7088, 6874]),\n",
       " array([7715, 5487, 2619, ..., 2025,  929, 7443]),\n",
       " array([6301, 6892, 2433, ..., 4211, 2403, 2785]),\n",
       " array([6159, 2656,  881, ...,   87, 7693, 4267]),\n",
       " array([2758, 7683, 2079, ..., 4380, 6376, 1091]),\n",
       " array([ 327, 2267, 7363, ..., 4493, 1686, 5379]),\n",
       " array([ 375, 7225, 6425, ..., 3269,  433, 1413]),\n",
       " array([5909, 2744, 5101, ..., 2921, 2140, 4260]),\n",
       " array([2783, 4674, 3081, ..., 4355, 2274, 1801]),\n",
       " array([3977,  293, 1599, ..., 3284, 3694,  849]),\n",
       " array([5573, 7366, 6336, ...,  813, 2252, 4811]),\n",
       " array([4684, 6426, 2222, ..., 2002, 2719,  300]),\n",
       " array([5644, 2140, 4600, ..., 3111, 7952, 1580]),\n",
       " array([5905, 6887, 2612, ..., 3023, 6363, 3803]),\n",
       " array([2344, 2838, 2178, ..., 1983, 5295, 1665]),\n",
       " array([ 168, 5219, 4769, ..., 5000, 1990, 3411]),\n",
       " array([4135, 1143,  957, ..., 7446, 3166, 7067]),\n",
       " array([ 250, 1387, 2735, ..., 4246, 4040, 6239]),\n",
       " array([3047, 1501,  844, ..., 3425, 7506, 6655]),\n",
       " array([3781,  818, 6063, ...,  690, 4978, 3512]),\n",
       " array([5421,  211, 4441, ..., 7001, 3836, 7766]),\n",
       " array([7537, 7469, 3868, ..., 2489, 1241, 3219]),\n",
       " array([5177, 6157, 1348, ..., 2321, 4541, 5424]),\n",
       " array([ 178, 5556, 2334, ...,  241, 3987, 1725]),\n",
       " array([1500, 2690, 1938, ..., 5618, 1088, 6591]),\n",
       " array([ 980, 5844, 1974, ..., 6757, 4413, 5453]),\n",
       " array([ 589,   82, 1536, ..., 3222, 1428, 5174]),\n",
       " array([6556, 4076, 3339, ..., 5585, 5178, 6969]),\n",
       " array([  97, 2968, 6195, ..., 7345, 3863, 3929]),\n",
       " array([4133, 4935, 5458, ...,  768, 6625, 2485]),\n",
       " array([3552, 4803, 1370, ..., 4075, 4489,  179]),\n",
       " array([4205, 6613, 3756, ..., 7375, 5356, 3467]),\n",
       " array([2102, 3510, 5032, ..., 2452, 1514, 3567]),\n",
       " array([4990, 5801, 1254, ..., 4082, 6332, 6289]),\n",
       " array([7474, 4243, 3026, ..., 7933,  824, 4275]),\n",
       " array([3523, 7374, 4958, ..., 6453, 4648, 7272]),\n",
       " array([2689, 1913, 1803, ..., 1518, 5073, 7317]),\n",
       " array([4156, 1516, 4966, ..., 6574, 7702, 1147]),\n",
       " array([3104, 4117, 4101, ..., 6292, 5521, 4630]),\n",
       " array([5091, 6502, 6626, ..., 2658, 4048, 7740]),\n",
       " array([3642, 6234, 5033, ..., 5198, 6937, 2605]),\n",
       " array([  40, 6793,  389, ...,   98,  793, 1614]),\n",
       " array([4373, 1733, 2701, ..., 4062, 2134, 3868]),\n",
       " array([7347,  774, 7148, ..., 1331, 2816,   74]),\n",
       " array([1172, 7622, 3788, ..., 3785, 1242, 2987]),\n",
       " array([ 487,  215, 1056, ..., 3250, 1405, 6981]),\n",
       " array([5194, 5632, 4399, ...,  122, 6423, 4088]),\n",
       " array([7652, 3926, 6090, ..., 7640, 1189, 7423]),\n",
       " array([ 823, 2908, 6044, ..., 5665, 5188, 7242]),\n",
       " array([2095, 1655, 6834, ..., 1416, 7006, 2110]),\n",
       " array([7552, 6828, 1440, ..., 1852, 1609, 4618]),\n",
       " array([5370, 5367, 5073, ..., 5511, 5144,  600]),\n",
       " array([5960,  607, 7086, ..., 1555, 3473, 5708]),\n",
       " array([4497, 4866, 5466, ..., 7375, 2529, 2236]),\n",
       " array([7749, 7556, 4793, ..., 3323, 5587, 7560]),\n",
       " array([7559, 1674, 1860, ..., 7685,  373, 6264]),\n",
       " array([ 910, 3299,   16, ..., 6418, 1193, 7673]),\n",
       " array([ 412, 6160, 5686, ..., 1242, 4903, 6178]),\n",
       " array([6807, 2097,  619, ..., 1913, 7828, 7565]),\n",
       " array([7949, 1283, 1039, ..., 5561, 4532, 3256]),\n",
       " array([1118, 1939, 2189, ..., 3603, 1160, 7469]),\n",
       " array([4644, 5331, 5646, ..., 5263, 3441, 7227]),\n",
       " array([5911, 2553, 7387, ..., 2957, 7163, 3939]),\n",
       " array([7353,  984, 2074, ..., 6959, 1099, 7341]),\n",
       " array([5488, 7790, 2745, ..., 5585, 2786, 2968]),\n",
       " array([7516, 7423,  526, ..., 6270, 7655, 4654]),\n",
       " array([6825, 4592, 7619, ..., 2872, 3077, 2963]),\n",
       " array([7533, 4036,  360, ..., 1628, 7769,  435]),\n",
       " array([3942, 2993, 7586, ..., 1183, 3266, 4957]),\n",
       " array([  67, 6409, 1852, ..., 2633, 5311, 2621]),\n",
       " array([4305, 1162, 5416, ...,  561, 3368, 5264]),\n",
       " array([4992, 4159, 7027, ..., 2305, 3596, 2234]),\n",
       " array([6284, 3217, 2843, ..., 3449, 3676, 6525]),\n",
       " array([ 603, 5215, 7165, ..., 7316, 2404, 2680]),\n",
       " array([4440, 6558, 3982, ...,  752, 7975, 5414]),\n",
       " array([ 964, 5684, 4210, ..., 1125, 4131, 1886]),\n",
       " array([1716, 7330, 1484, ..., 1644, 1790, 6621]),\n",
       " array([2221, 1571, 5391, ..., 1906, 5717,   77]),\n",
       " array([4620, 1404, 3780, ..., 1261, 6252, 1020]),\n",
       " array([6094, 5808, 7876, ..., 7177, 1679,   69]),\n",
       " array([5667,  236, 3587, ..., 4008, 3958, 5354]),\n",
       " array([4896, 5318, 5220, ..., 2849, 3390, 4779]),\n",
       " array([ 668, 4436, 6846, ..., 7445, 2451, 1322]),\n",
       " array([ 891, 7528, 1818, ..., 6413, 3893, 1110]),\n",
       " array([ 970, 3848, 1408, ...,  704, 7635, 5284]),\n",
       " array([5484, 6967, 4350, ..., 6369, 7465, 3168]),\n",
       " array([7576, 6159, 6334, ..., 6276, 4253, 2006]),\n",
       " array([6494,  629, 3460, ..., 2075, 1445,  981]),\n",
       " array([2137, 1333,  730, ..., 1756, 3786, 6873]),\n",
       " array([2352, 5705, 2514, ..., 5960, 6387, 7413]),\n",
       " array([1442, 1744, 7440, ..., 3893, 4348, 1947]),\n",
       " array([7476, 6640, 3015, ..., 2175, 7852, 3644]),\n",
       " array([7729, 1290, 4662, ..., 4028, 1213,  312]),\n",
       " array([6708, 6777, 2526, ..., 3066, 7177, 5061]),\n",
       " array([2168, 2348, 2461, ..., 5199, 4492, 4313]),\n",
       " array([5706, 2105, 5726, ...,  954, 7820,  227]),\n",
       " array([3442, 5148, 2548, ..., 1294, 2393, 4436]),\n",
       " array([4000, 1417, 6501, ..., 5246, 2109, 2767]),\n",
       " array([3472, 3266,  687, ..., 3433, 7408, 5153]),\n",
       " array([ 105, 2634, 3359, ..., 6121, 3057, 3295]),\n",
       " array([3059, 1834, 3880, ..., 6842, 6298, 5534]),\n",
       " array([4645,  919, 3145, ..., 1398, 1021, 6607]),\n",
       " array([7830, 5971, 2248, ..., 1652, 7001, 2262]),\n",
       " array([4284, 2458, 5135, ..., 5496, 6260, 3056]),\n",
       " array([1056, 6314, 2537, ..., 5651, 6080, 4242]),\n",
       " array([7151,  937,  289, ..., 1135, 7886, 6584]),\n",
       " array([7289, 3936, 3474, ...,   45, 4439, 4673]),\n",
       " array([2035, 6108, 1454, ..., 5476, 6400, 4406]),\n",
       " array([3436, 4489, 7575, ..., 7805, 4237, 5996]),\n",
       " array([ 830, 4649, 6346, ..., 4544, 4680, 1952]),\n",
       " array([4975, 3879, 7535, ...,  220, 2620, 2553]),\n",
       " array([6316, 1557, 5365, ..., 3649, 4500, 6516]),\n",
       " array([ 250, 7909, 7578, ..., 5266, 4279, 4368]),\n",
       " array([2968, 6952, 2627, ..., 2147, 5550, 6678]),\n",
       " array([ 380, 5006, 6966, ..., 1093, 3069, 3067]),\n",
       " array([6702, 5928, 6156, ..., 4849, 1735, 5001]),\n",
       " array([1109, 6706,  470, ...,  589, 3535, 6931]),\n",
       " array([3726, 4903, 7768, ..., 1501, 7965, 7131]),\n",
       " array([7926, 2372, 7687, ..., 4247, 5806,  802]),\n",
       " array([7871, 4361, 2651, ..., 6202, 6332, 2279]),\n",
       " array([4374, 5958, 4372, ..., 2028, 4893, 1826]),\n",
       " array([6676, 6186, 5862, ..., 7412, 2059,  608]),\n",
       " array([2529, 7197, 6035, ...,  613, 4682, 2964]),\n",
       " array([7026, 1030, 5205, ..., 5178, 4092,  505]),\n",
       " array([ 944, 3058, 2387, ..., 7139,  443, 2524]),\n",
       " array([6502, 5195, 6047, ...,  746, 7763, 3183]),\n",
       " array([5194, 6065,  682, ..., 5635, 2190, 5169]),\n",
       " array([ 136, 6405, 5961, ..., 1195, 2896, 3315]),\n",
       " array([6383, 4680, 7637, ..., 3548, 6626, 1101]),\n",
       " array([5378, 1181, 3628, ..., 7231, 1608, 2782]),\n",
       " array([3627, 5833, 7968, ..., 5577, 1707, 7376]),\n",
       " array([ 900, 4805, 2984, ..., 6067, 6365, 6236]),\n",
       " array([6458, 5776, 6085, ..., 3798, 6660, 2571]),\n",
       " array([ 125, 6164,  221, ..., 2127, 7630, 5188]),\n",
       " array([6368, 6667, 3864, ...,  771, 3726, 6372]),\n",
       " array([6150, 4519, 2801, ..., 4990, 6143, 2240]),\n",
       " array([1372,  178, 3202, ..., 6814, 1341, 6456]),\n",
       " array([ 178, 5491, 3241, ..., 5296, 2343, 1135]),\n",
       " array([7236, 6425, 3224, ..., 2071, 2952, 2080])]"
      ]
     },
     "execution_count": 92,
     "metadata": {},
     "output_type": "execute_result"
    }
   ],
   "source": [
    "bag.estimators_samples_"
   ]
  },
  {
   "cell_type": "markdown",
   "id": "bc8c4155",
   "metadata": {},
   "source": [
    "#### ABove list gives information about what data each base learner recieved as part of sampling process. All these are the row numbers in the data set "
   ]
  },
  {
   "cell_type": "code",
   "execution_count": 93,
   "id": "ee0e2bb5",
   "metadata": {},
   "outputs": [
    {
     "data": {
      "text/plain": [
       "(2000,)"
      ]
     },
     "execution_count": 93,
     "metadata": {},
     "output_type": "execute_result"
    }
   ],
   "source": [
    "bag.estimators_samples_[0].shape ### 2000 because max_samples is set to 25% of training dataset size"
   ]
  },
  {
   "cell_type": "code",
   "execution_count": 94,
   "id": "10317aa0",
   "metadata": {},
   "outputs": [
    {
     "data": {
      "text/plain": [
       "array([ 0.82239294, -0.71858126, -1.06214022, -1.53715319,  0.11146871,\n",
       "        0.66020206, -0.40079747, -0.93824498,  1.23307524,  0.53881686])"
      ]
     },
     "execution_count": 94,
     "metadata": {},
     "output_type": "execute_result"
    }
   ],
   "source": [
    "X_train[2523]"
   ]
  },
  {
   "cell_type": "code",
   "execution_count": 96,
   "id": "4eaeb80b",
   "metadata": {},
   "outputs": [],
   "source": [
    "df = pd.DataFrame(X_train)"
   ]
  },
  {
   "cell_type": "code",
   "execution_count": 97,
   "id": "a2b36790",
   "metadata": {},
   "outputs": [
    {
     "data": {
      "text/html": [
       "<div>\n",
       "<style scoped>\n",
       "    .dataframe tbody tr th:only-of-type {\n",
       "        vertical-align: middle;\n",
       "    }\n",
       "\n",
       "    .dataframe tbody tr th {\n",
       "        vertical-align: top;\n",
       "    }\n",
       "\n",
       "    .dataframe thead th {\n",
       "        text-align: right;\n",
       "    }\n",
       "</style>\n",
       "<table border=\"1\" class=\"dataframe\">\n",
       "  <thead>\n",
       "    <tr style=\"text-align: right;\">\n",
       "      <th></th>\n",
       "      <th>0</th>\n",
       "      <th>1</th>\n",
       "      <th>2</th>\n",
       "      <th>3</th>\n",
       "      <th>4</th>\n",
       "      <th>5</th>\n",
       "      <th>6</th>\n",
       "      <th>7</th>\n",
       "      <th>8</th>\n",
       "      <th>9</th>\n",
       "    </tr>\n",
       "  </thead>\n",
       "  <tbody>\n",
       "    <tr>\n",
       "      <th>0</th>\n",
       "      <td>1.348792</td>\n",
       "      <td>1.144156</td>\n",
       "      <td>-1.089312</td>\n",
       "      <td>-1.048828</td>\n",
       "      <td>0.864802</td>\n",
       "      <td>1.354916</td>\n",
       "      <td>-1.111893</td>\n",
       "      <td>-1.105773</td>\n",
       "      <td>1.498006</td>\n",
       "      <td>0.472953</td>\n",
       "    </tr>\n",
       "    <tr>\n",
       "      <th>1</th>\n",
       "      <td>3.761109</td>\n",
       "      <td>-0.746156</td>\n",
       "      <td>0.432150</td>\n",
       "      <td>-0.436128</td>\n",
       "      <td>-0.762703</td>\n",
       "      <td>3.199744</td>\n",
       "      <td>0.810951</td>\n",
       "      <td>2.085920</td>\n",
       "      <td>-0.965857</td>\n",
       "      <td>0.650364</td>\n",
       "    </tr>\n",
       "    <tr>\n",
       "      <th>2</th>\n",
       "      <td>2.840706</td>\n",
       "      <td>-2.159429</td>\n",
       "      <td>-2.925219</td>\n",
       "      <td>0.515960</td>\n",
       "      <td>-1.159204</td>\n",
       "      <td>1.376529</td>\n",
       "      <td>0.109981</td>\n",
       "      <td>-1.028613</td>\n",
       "      <td>2.249755</td>\n",
       "      <td>0.070274</td>\n",
       "    </tr>\n",
       "    <tr>\n",
       "      <th>3</th>\n",
       "      <td>-0.494669</td>\n",
       "      <td>0.990802</td>\n",
       "      <td>1.696627</td>\n",
       "      <td>-0.591880</td>\n",
       "      <td>-0.463119</td>\n",
       "      <td>0.038435</td>\n",
       "      <td>-0.764574</td>\n",
       "      <td>1.273868</td>\n",
       "      <td>-1.597810</td>\n",
       "      <td>-0.106660</td>\n",
       "    </tr>\n",
       "    <tr>\n",
       "      <th>4</th>\n",
       "      <td>-1.031785</td>\n",
       "      <td>-0.444085</td>\n",
       "      <td>2.641760</td>\n",
       "      <td>-0.788852</td>\n",
       "      <td>-0.289233</td>\n",
       "      <td>1.211283</td>\n",
       "      <td>-0.077779</td>\n",
       "      <td>-0.069298</td>\n",
       "      <td>-0.861230</td>\n",
       "      <td>-0.715281</td>\n",
       "    </tr>\n",
       "    <tr>\n",
       "      <th>...</th>\n",
       "      <td>...</td>\n",
       "      <td>...</td>\n",
       "      <td>...</td>\n",
       "      <td>...</td>\n",
       "      <td>...</td>\n",
       "      <td>...</td>\n",
       "      <td>...</td>\n",
       "      <td>...</td>\n",
       "      <td>...</td>\n",
       "      <td>...</td>\n",
       "    </tr>\n",
       "    <tr>\n",
       "      <th>7995</th>\n",
       "      <td>1.409278</td>\n",
       "      <td>-0.836216</td>\n",
       "      <td>-2.155560</td>\n",
       "      <td>0.182751</td>\n",
       "      <td>-0.675857</td>\n",
       "      <td>0.010308</td>\n",
       "      <td>-0.614172</td>\n",
       "      <td>-0.441083</td>\n",
       "      <td>1.241189</td>\n",
       "      <td>2.469244</td>\n",
       "    </tr>\n",
       "    <tr>\n",
       "      <th>7996</th>\n",
       "      <td>-1.119129</td>\n",
       "      <td>0.847617</td>\n",
       "      <td>4.572742</td>\n",
       "      <td>0.684178</td>\n",
       "      <td>1.094922</td>\n",
       "      <td>2.131591</td>\n",
       "      <td>-0.838648</td>\n",
       "      <td>0.907623</td>\n",
       "      <td>-2.182552</td>\n",
       "      <td>-1.641224</td>\n",
       "    </tr>\n",
       "    <tr>\n",
       "      <th>7997</th>\n",
       "      <td>1.850627</td>\n",
       "      <td>-0.816992</td>\n",
       "      <td>-0.082264</td>\n",
       "      <td>0.241638</td>\n",
       "      <td>2.031891</td>\n",
       "      <td>1.030927</td>\n",
       "      <td>0.036666</td>\n",
       "      <td>1.426149</td>\n",
       "      <td>-0.727502</td>\n",
       "      <td>2.054109</td>\n",
       "    </tr>\n",
       "    <tr>\n",
       "      <th>7998</th>\n",
       "      <td>1.250868</td>\n",
       "      <td>-0.293355</td>\n",
       "      <td>0.626363</td>\n",
       "      <td>1.138543</td>\n",
       "      <td>0.807886</td>\n",
       "      <td>3.699396</td>\n",
       "      <td>-0.285493</td>\n",
       "      <td>-2.432418</td>\n",
       "      <td>2.122328</td>\n",
       "      <td>0.828250</td>\n",
       "    </tr>\n",
       "    <tr>\n",
       "      <th>7999</th>\n",
       "      <td>1.395186</td>\n",
       "      <td>0.527033</td>\n",
       "      <td>-0.832428</td>\n",
       "      <td>-2.277753</td>\n",
       "      <td>0.264767</td>\n",
       "      <td>-0.484257</td>\n",
       "      <td>-0.455830</td>\n",
       "      <td>1.895378</td>\n",
       "      <td>-1.023281</td>\n",
       "      <td>-0.646795</td>\n",
       "    </tr>\n",
       "  </tbody>\n",
       "</table>\n",
       "<p>8000 rows × 10 columns</p>\n",
       "</div>"
      ],
      "text/plain": [
       "             0         1         2         3         4         5         6  \\\n",
       "0     1.348792  1.144156 -1.089312 -1.048828  0.864802  1.354916 -1.111893   \n",
       "1     3.761109 -0.746156  0.432150 -0.436128 -0.762703  3.199744  0.810951   \n",
       "2     2.840706 -2.159429 -2.925219  0.515960 -1.159204  1.376529  0.109981   \n",
       "3    -0.494669  0.990802  1.696627 -0.591880 -0.463119  0.038435 -0.764574   \n",
       "4    -1.031785 -0.444085  2.641760 -0.788852 -0.289233  1.211283 -0.077779   \n",
       "...        ...       ...       ...       ...       ...       ...       ...   \n",
       "7995  1.409278 -0.836216 -2.155560  0.182751 -0.675857  0.010308 -0.614172   \n",
       "7996 -1.119129  0.847617  4.572742  0.684178  1.094922  2.131591 -0.838648   \n",
       "7997  1.850627 -0.816992 -0.082264  0.241638  2.031891  1.030927  0.036666   \n",
       "7998  1.250868 -0.293355  0.626363  1.138543  0.807886  3.699396 -0.285493   \n",
       "7999  1.395186  0.527033 -0.832428 -2.277753  0.264767 -0.484257 -0.455830   \n",
       "\n",
       "             7         8         9  \n",
       "0    -1.105773  1.498006  0.472953  \n",
       "1     2.085920 -0.965857  0.650364  \n",
       "2    -1.028613  2.249755  0.070274  \n",
       "3     1.273868 -1.597810 -0.106660  \n",
       "4    -0.069298 -0.861230 -0.715281  \n",
       "...        ...       ...       ...  \n",
       "7995 -0.441083  1.241189  2.469244  \n",
       "7996  0.907623 -2.182552 -1.641224  \n",
       "7997  1.426149 -0.727502  2.054109  \n",
       "7998 -2.432418  2.122328  0.828250  \n",
       "7999  1.895378 -1.023281 -0.646795  \n",
       "\n",
       "[8000 rows x 10 columns]"
      ]
     },
     "execution_count": 97,
     "metadata": {},
     "output_type": "execute_result"
    }
   ],
   "source": [
    "df"
   ]
  },
  {
   "cell_type": "markdown",
   "id": "b6777c8d",
   "metadata": {},
   "source": [
    "#### To check number of columns used as part of column sampling, we can use estimators_features_"
   ]
  },
  {
   "cell_type": "code",
   "execution_count": null,
   "id": "acf6a419",
   "metadata": {},
   "outputs": [],
   "source": [
    "bag.estimators_features_"
   ]
  },
  {
   "cell_type": "markdown",
   "id": "7833e3b0",
   "metadata": {},
   "source": [
    "#### Bagging using SVM"
   ]
  },
  {
   "cell_type": "code",
   "execution_count": 99,
   "id": "99452bd1",
   "metadata": {},
   "outputs": [],
   "source": [
    "bag = BaggingClassifier(\n",
    "    base_estimator=SVC(),\n",
    "    n_estimators=500,\n",
    "    max_samples=0.25,\n",
    "    bootstrap=True,\n",
    "    random_state=42\n",
    ")"
   ]
  },
  {
   "cell_type": "code",
   "execution_count": 100,
   "id": "8dfbcc0c",
   "metadata": {},
   "outputs": [
    {
     "name": "stdout",
     "output_type": "stream",
     "text": [
      "Bagging using SVM 0.9125\n"
     ]
    }
   ],
   "source": [
    "bag.fit(X_train,y_train)\n",
    "y_pred = bag.predict(X_test)\n",
    "print(\"Bagging using SVM\", accuracy_score(y_test,y_pred))"
   ]
  },
  {
   "cell_type": "markdown",
   "id": "a6dc6d80",
   "metadata": {},
   "source": [
    "#### Pasting"
   ]
  },
  {
   "cell_type": "code",
   "execution_count": 103,
   "id": "05c3896e",
   "metadata": {},
   "outputs": [],
   "source": [
    "bag = BaggingClassifier(\n",
    "    base_estimator=SVC(),\n",
    "    n_estimators=500,\n",
    "    max_samples=0.25,\n",
    "    random_state=42,\n",
    "    verbose=1, ### Gives info during what is happening during the training time\n",
    "    n_jobs = -1 ### Divides the task among the CPU cores present which makes it faster for execution\n",
    ")"
   ]
  },
  {
   "cell_type": "code",
   "execution_count": 104,
   "id": "0e3b2d8d",
   "metadata": {},
   "outputs": [
    {
     "name": "stderr",
     "output_type": "stream",
     "text": [
      "[Parallel(n_jobs=4)]: Using backend LokyBackend with 4 concurrent workers.\n",
      "[Parallel(n_jobs=4)]: Done   2 out of   4 | elapsed:   26.2s remaining:   26.2s\n",
      "[Parallel(n_jobs=4)]: Done   4 out of   4 | elapsed:   26.4s finished\n",
      "[Parallel(n_jobs=4)]: Using backend LokyBackend with 4 concurrent workers.\n"
     ]
    },
    {
     "name": "stdout",
     "output_type": "stream",
     "text": [
      "Bagging using SVM 0.9125\n"
     ]
    },
    {
     "name": "stderr",
     "output_type": "stream",
     "text": [
      "[Parallel(n_jobs=4)]: Done   2 out of   4 | elapsed:   56.1s remaining:   56.1s\n",
      "[Parallel(n_jobs=4)]: Done   4 out of   4 | elapsed:   56.2s finished\n"
     ]
    }
   ],
   "source": [
    "bag.fit(X_train,y_train)\n",
    "y_pred = bag.predict(X_test)\n",
    "print(\"Bagging using SVM\", accuracy_score(y_test,y_pred))"
   ]
  },
  {
   "cell_type": "code",
   "execution_count": 105,
   "id": "0a0b4485",
   "metadata": {},
   "outputs": [],
   "source": [
    "### Random Subspaces where we perform column sampling\n",
    "\n",
    "bag = BaggingClassifier(\n",
    "    base_estimator=DecisionTreeClassifier(),\n",
    "    n_estimators=500,\n",
    "    max_samples=1.0, ## taking all samples\n",
    "    bootstrap=False,\n",
    "    max_features=0.5, ## using only 5 out of 10 columns\n",
    "    bootstrap_features=True,\n",
    "    random_state=42\n",
    ")\n",
    "\n",
    "\n"
   ]
  },
  {
   "cell_type": "code",
   "execution_count": 106,
   "id": "a94b36e2",
   "metadata": {},
   "outputs": [
    {
     "name": "stdout",
     "output_type": "stream",
     "text": [
      "Random  Subspaces classifier: 0.9075\n"
     ]
    }
   ],
   "source": [
    "bag.fit(X_train,y_train)\n",
    "y_pred = bag.predict(X_test)\n",
    "print(\"Random  Subspaces classifier:\", accuracy_score(y_test,y_pred))"
   ]
  },
  {
   "cell_type": "markdown",
   "id": "1ae8dd17",
   "metadata": {},
   "source": [
    "#### Random Patches"
   ]
  },
  {
   "cell_type": "code",
   "execution_count": 107,
   "id": "739bcb60",
   "metadata": {},
   "outputs": [],
   "source": [
    "bag = BaggingClassifier(\n",
    "    base_estimator=DecisionTreeClassifier(),\n",
    "    n_estimators=500,\n",
    "    max_samples=0.25,\n",
    "    bootstrap=True,\n",
    "    max_features=0.5,\n",
    "    bootstrap_features=True,\n",
    "    random_state=42\n",
    ")"
   ]
  },
  {
   "cell_type": "code",
   "execution_count": 108,
   "id": "6e306625",
   "metadata": {},
   "outputs": [
    {
     "name": "stdout",
     "output_type": "stream",
     "text": [
      "Random  Patches classifier: 0.91\n"
     ]
    }
   ],
   "source": [
    "bag.fit(X_train,y_train)\n",
    "y_pred = bag.predict(X_test)\n",
    "print(\"Random  Patches classifier:\", accuracy_score(y_test,y_pred))"
   ]
  },
  {
   "cell_type": "markdown",
   "id": "d36f2ccc",
   "metadata": {},
   "source": [
    "#### OOB(Out of bag samples)\n",
    "\n",
    "OOB --> When we do rpow sampling, there are few rows which are repeated in the samples. But on the other hand, there might be rows, which end up not being in any of the samples when we are using \"With Replacement\". \n",
    "\n",
    "As per statistical study, only 63% of the rows will appear in the samples while remaining 37% will not appear. These 37% are called OOB.\n",
    "\n",
    "So, this is kind of unseen data. We can use this unseen data to check the accuracy of our model or how our model is performing.\n",
    "\n",
    "This can be done using the parameter \"oob_score = True\""
   ]
  },
  {
   "cell_type": "code",
   "execution_count": 109,
   "id": "48155d6f",
   "metadata": {},
   "outputs": [],
   "source": [
    "bag = BaggingClassifier(\n",
    "    base_estimator=DecisionTreeClassifier(),\n",
    "    n_estimators=500,\n",
    "    max_samples=0.25,\n",
    "    bootstrap=True,\n",
    "    oob_score=True,\n",
    "    random_state=42\n",
    ")"
   ]
  },
  {
   "cell_type": "code",
   "execution_count": 110,
   "id": "c036ee89",
   "metadata": {},
   "outputs": [
    {
     "data": {
      "text/html": [
       "<style>#sk-container-id-2 {color: black;background-color: white;}#sk-container-id-2 pre{padding: 0;}#sk-container-id-2 div.sk-toggleable {background-color: white;}#sk-container-id-2 label.sk-toggleable__label {cursor: pointer;display: block;width: 100%;margin-bottom: 0;padding: 0.3em;box-sizing: border-box;text-align: center;}#sk-container-id-2 label.sk-toggleable__label-arrow:before {content: \"▸\";float: left;margin-right: 0.25em;color: #696969;}#sk-container-id-2 label.sk-toggleable__label-arrow:hover:before {color: black;}#sk-container-id-2 div.sk-estimator:hover label.sk-toggleable__label-arrow:before {color: black;}#sk-container-id-2 div.sk-toggleable__content {max-height: 0;max-width: 0;overflow: hidden;text-align: left;background-color: #f0f8ff;}#sk-container-id-2 div.sk-toggleable__content pre {margin: 0.2em;color: black;border-radius: 0.25em;background-color: #f0f8ff;}#sk-container-id-2 input.sk-toggleable__control:checked~div.sk-toggleable__content {max-height: 200px;max-width: 100%;overflow: auto;}#sk-container-id-2 input.sk-toggleable__control:checked~label.sk-toggleable__label-arrow:before {content: \"▾\";}#sk-container-id-2 div.sk-estimator input.sk-toggleable__control:checked~label.sk-toggleable__label {background-color: #d4ebff;}#sk-container-id-2 div.sk-label input.sk-toggleable__control:checked~label.sk-toggleable__label {background-color: #d4ebff;}#sk-container-id-2 input.sk-hidden--visually {border: 0;clip: rect(1px 1px 1px 1px);clip: rect(1px, 1px, 1px, 1px);height: 1px;margin: -1px;overflow: hidden;padding: 0;position: absolute;width: 1px;}#sk-container-id-2 div.sk-estimator {font-family: monospace;background-color: #f0f8ff;border: 1px dotted black;border-radius: 0.25em;box-sizing: border-box;margin-bottom: 0.5em;}#sk-container-id-2 div.sk-estimator:hover {background-color: #d4ebff;}#sk-container-id-2 div.sk-parallel-item::after {content: \"\";width: 100%;border-bottom: 1px solid gray;flex-grow: 1;}#sk-container-id-2 div.sk-label:hover label.sk-toggleable__label {background-color: #d4ebff;}#sk-container-id-2 div.sk-serial::before {content: \"\";position: absolute;border-left: 1px solid gray;box-sizing: border-box;top: 0;bottom: 0;left: 50%;z-index: 0;}#sk-container-id-2 div.sk-serial {display: flex;flex-direction: column;align-items: center;background-color: white;padding-right: 0.2em;padding-left: 0.2em;position: relative;}#sk-container-id-2 div.sk-item {position: relative;z-index: 1;}#sk-container-id-2 div.sk-parallel {display: flex;align-items: stretch;justify-content: center;background-color: white;position: relative;}#sk-container-id-2 div.sk-item::before, #sk-container-id-2 div.sk-parallel-item::before {content: \"\";position: absolute;border-left: 1px solid gray;box-sizing: border-box;top: 0;bottom: 0;left: 50%;z-index: -1;}#sk-container-id-2 div.sk-parallel-item {display: flex;flex-direction: column;z-index: 1;position: relative;background-color: white;}#sk-container-id-2 div.sk-parallel-item:first-child::after {align-self: flex-end;width: 50%;}#sk-container-id-2 div.sk-parallel-item:last-child::after {align-self: flex-start;width: 50%;}#sk-container-id-2 div.sk-parallel-item:only-child::after {width: 0;}#sk-container-id-2 div.sk-dashed-wrapped {border: 1px dashed gray;margin: 0 0.4em 0.5em 0.4em;box-sizing: border-box;padding-bottom: 0.4em;background-color: white;}#sk-container-id-2 div.sk-label label {font-family: monospace;font-weight: bold;display: inline-block;line-height: 1.2em;}#sk-container-id-2 div.sk-label-container {text-align: center;}#sk-container-id-2 div.sk-container {/* jupyter's `normalize.less` sets `[hidden] { display: none; }` but bootstrap.min.css set `[hidden] { display: none !important; }` so we also need the `!important` here to be able to override the default hidden behavior on the sphinx rendered scikit-learn.org. See: https://github.com/scikit-learn/scikit-learn/issues/21755 */display: inline-block !important;position: relative;}#sk-container-id-2 div.sk-text-repr-fallback {display: none;}</style><div id=\"sk-container-id-2\" class=\"sk-top-container\"><div class=\"sk-text-repr-fallback\"><pre>BaggingClassifier(base_estimator=DecisionTreeClassifier(), max_samples=0.25,\n",
       "                  n_estimators=500, oob_score=True, random_state=42)</pre><b>In a Jupyter environment, please rerun this cell to show the HTML representation or trust the notebook. <br />On GitHub, the HTML representation is unable to render, please try loading this page with nbviewer.org.</b></div><div class=\"sk-container\" hidden><div class=\"sk-item sk-dashed-wrapped\"><div class=\"sk-label-container\"><div class=\"sk-label sk-toggleable\"><input class=\"sk-toggleable__control sk-hidden--visually\" id=\"sk-estimator-id-4\" type=\"checkbox\" ><label for=\"sk-estimator-id-4\" class=\"sk-toggleable__label sk-toggleable__label-arrow\">BaggingClassifier</label><div class=\"sk-toggleable__content\"><pre>BaggingClassifier(base_estimator=DecisionTreeClassifier(), max_samples=0.25,\n",
       "                  n_estimators=500, oob_score=True, random_state=42)</pre></div></div></div><div class=\"sk-parallel\"><div class=\"sk-parallel-item\"><div class=\"sk-item\"><div class=\"sk-label-container\"><div class=\"sk-label sk-toggleable\"><input class=\"sk-toggleable__control sk-hidden--visually\" id=\"sk-estimator-id-5\" type=\"checkbox\" ><label for=\"sk-estimator-id-5\" class=\"sk-toggleable__label sk-toggleable__label-arrow\">base_estimator: DecisionTreeClassifier</label><div class=\"sk-toggleable__content\"><pre>DecisionTreeClassifier()</pre></div></div></div><div class=\"sk-serial\"><div class=\"sk-item\"><div class=\"sk-estimator sk-toggleable\"><input class=\"sk-toggleable__control sk-hidden--visually\" id=\"sk-estimator-id-6\" type=\"checkbox\" ><label for=\"sk-estimator-id-6\" class=\"sk-toggleable__label sk-toggleable__label-arrow\">DecisionTreeClassifier</label><div class=\"sk-toggleable__content\"><pre>DecisionTreeClassifier()</pre></div></div></div></div></div></div></div></div></div></div>"
      ],
      "text/plain": [
       "BaggingClassifier(base_estimator=DecisionTreeClassifier(), max_samples=0.25,\n",
       "                  n_estimators=500, oob_score=True, random_state=42)"
      ]
     },
     "execution_count": 110,
     "metadata": {},
     "output_type": "execute_result"
    }
   ],
   "source": [
    "bag.fit(X_train,y_train)"
   ]
  },
  {
   "cell_type": "code",
   "execution_count": 111,
   "id": "c2483da8",
   "metadata": {},
   "outputs": [
    {
     "data": {
      "text/plain": [
       "0.90275"
      ]
     },
     "execution_count": 111,
     "metadata": {},
     "output_type": "execute_result"
    }
   ],
   "source": [
    "bag.oob_score_   ### This will be close to accuracy of the model"
   ]
  },
  {
   "cell_type": "code",
   "execution_count": 116,
   "id": "7bb065d4",
   "metadata": {},
   "outputs": [
    {
     "data": {
      "text/plain": [
       "0.917"
      ]
     },
     "execution_count": 116,
     "metadata": {},
     "output_type": "execute_result"
    }
   ],
   "source": [
    "y_pred = bag.predict(X_test)\n",
    "accuracy_score(y_test,y_pred)"
   ]
  },
  {
   "cell_type": "code",
   "execution_count": null,
   "id": "4c4e60ac",
   "metadata": {},
   "outputs": [],
   "source": []
  },
  {
   "cell_type": "code",
   "execution_count": null,
   "id": "b0e547a7",
   "metadata": {},
   "outputs": [],
   "source": []
  },
  {
   "cell_type": "code",
   "execution_count": null,
   "id": "0d3115b3",
   "metadata": {},
   "outputs": [],
   "source": []
  }
 ],
 "metadata": {
  "kernelspec": {
   "display_name": "Python 3",
   "language": "python",
   "name": "python3"
  },
  "language_info": {
   "codemirror_mode": {
    "name": "ipython",
    "version": 3
   },
   "file_extension": ".py",
   "mimetype": "text/x-python",
   "name": "python",
   "nbconvert_exporter": "python",
   "pygments_lexer": "ipython3",
   "version": "3.8.8"
  }
 },
 "nbformat": 4,
 "nbformat_minor": 5
}
