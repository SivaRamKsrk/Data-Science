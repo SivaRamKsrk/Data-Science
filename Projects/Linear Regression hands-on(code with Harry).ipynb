{
 "cells": [
  {
   "cell_type": "code",
   "execution_count": 83,
   "id": "1fe2eeb3",
   "metadata": {},
   "outputs": [],
   "source": [
    "import sklearn\n",
    "import numpy as np\n",
    "import pandas as pd\n",
    "import matplotlib.pyplot as plt\n",
    "import seaborn as sns\n"
   ]
  },
  {
   "cell_type": "code",
   "execution_count": 84,
   "id": "457cb462",
   "metadata": {},
   "outputs": [],
   "source": [
    "housing_data = pd.read_csv('HousingData.xls')"
   ]
  },
  {
   "cell_type": "code",
   "execution_count": 85,
   "id": "b9229d63",
   "metadata": {},
   "outputs": [
    {
     "data": {
      "text/html": [
       "<div>\n",
       "<style scoped>\n",
       "    .dataframe tbody tr th:only-of-type {\n",
       "        vertical-align: middle;\n",
       "    }\n",
       "\n",
       "    .dataframe tbody tr th {\n",
       "        vertical-align: top;\n",
       "    }\n",
       "\n",
       "    .dataframe thead th {\n",
       "        text-align: right;\n",
       "    }\n",
       "</style>\n",
       "<table border=\"1\" class=\"dataframe\">\n",
       "  <thead>\n",
       "    <tr style=\"text-align: right;\">\n",
       "      <th></th>\n",
       "      <th>CRIM</th>\n",
       "      <th>ZN</th>\n",
       "      <th>INDUS</th>\n",
       "      <th>CHAS</th>\n",
       "      <th>NOX</th>\n",
       "      <th>RM</th>\n",
       "      <th>AGE</th>\n",
       "      <th>DIS</th>\n",
       "      <th>RAD</th>\n",
       "      <th>TAX</th>\n",
       "      <th>PTRATIO</th>\n",
       "      <th>B</th>\n",
       "      <th>LSTAT</th>\n",
       "      <th>MEDV</th>\n",
       "    </tr>\n",
       "  </thead>\n",
       "  <tbody>\n",
       "    <tr>\n",
       "      <th>0</th>\n",
       "      <td>0.00632</td>\n",
       "      <td>18.0</td>\n",
       "      <td>2.31</td>\n",
       "      <td>0.0</td>\n",
       "      <td>0.538</td>\n",
       "      <td>6.575</td>\n",
       "      <td>65.2</td>\n",
       "      <td>4.0900</td>\n",
       "      <td>1</td>\n",
       "      <td>296</td>\n",
       "      <td>15.3</td>\n",
       "      <td>396.90</td>\n",
       "      <td>4.98</td>\n",
       "      <td>24.0</td>\n",
       "    </tr>\n",
       "    <tr>\n",
       "      <th>1</th>\n",
       "      <td>0.02731</td>\n",
       "      <td>0.0</td>\n",
       "      <td>7.07</td>\n",
       "      <td>0.0</td>\n",
       "      <td>0.469</td>\n",
       "      <td>6.421</td>\n",
       "      <td>78.9</td>\n",
       "      <td>4.9671</td>\n",
       "      <td>2</td>\n",
       "      <td>242</td>\n",
       "      <td>17.8</td>\n",
       "      <td>396.90</td>\n",
       "      <td>9.14</td>\n",
       "      <td>21.6</td>\n",
       "    </tr>\n",
       "    <tr>\n",
       "      <th>2</th>\n",
       "      <td>0.02729</td>\n",
       "      <td>0.0</td>\n",
       "      <td>7.07</td>\n",
       "      <td>0.0</td>\n",
       "      <td>0.469</td>\n",
       "      <td>7.185</td>\n",
       "      <td>61.1</td>\n",
       "      <td>4.9671</td>\n",
       "      <td>2</td>\n",
       "      <td>242</td>\n",
       "      <td>17.8</td>\n",
       "      <td>392.83</td>\n",
       "      <td>4.03</td>\n",
       "      <td>34.7</td>\n",
       "    </tr>\n",
       "    <tr>\n",
       "      <th>3</th>\n",
       "      <td>0.03237</td>\n",
       "      <td>0.0</td>\n",
       "      <td>2.18</td>\n",
       "      <td>0.0</td>\n",
       "      <td>0.458</td>\n",
       "      <td>6.998</td>\n",
       "      <td>45.8</td>\n",
       "      <td>6.0622</td>\n",
       "      <td>3</td>\n",
       "      <td>222</td>\n",
       "      <td>18.7</td>\n",
       "      <td>394.63</td>\n",
       "      <td>2.94</td>\n",
       "      <td>33.4</td>\n",
       "    </tr>\n",
       "    <tr>\n",
       "      <th>4</th>\n",
       "      <td>0.06905</td>\n",
       "      <td>0.0</td>\n",
       "      <td>2.18</td>\n",
       "      <td>0.0</td>\n",
       "      <td>0.458</td>\n",
       "      <td>7.147</td>\n",
       "      <td>54.2</td>\n",
       "      <td>6.0622</td>\n",
       "      <td>3</td>\n",
       "      <td>222</td>\n",
       "      <td>18.7</td>\n",
       "      <td>396.90</td>\n",
       "      <td>NaN</td>\n",
       "      <td>36.2</td>\n",
       "    </tr>\n",
       "  </tbody>\n",
       "</table>\n",
       "</div>"
      ],
      "text/plain": [
       "      CRIM    ZN  INDUS  CHAS    NOX     RM   AGE     DIS  RAD  TAX  PTRATIO  \\\n",
       "0  0.00632  18.0   2.31   0.0  0.538  6.575  65.2  4.0900    1  296     15.3   \n",
       "1  0.02731   0.0   7.07   0.0  0.469  6.421  78.9  4.9671    2  242     17.8   \n",
       "2  0.02729   0.0   7.07   0.0  0.469  7.185  61.1  4.9671    2  242     17.8   \n",
       "3  0.03237   0.0   2.18   0.0  0.458  6.998  45.8  6.0622    3  222     18.7   \n",
       "4  0.06905   0.0   2.18   0.0  0.458  7.147  54.2  6.0622    3  222     18.7   \n",
       "\n",
       "        B  LSTAT  MEDV  \n",
       "0  396.90   4.98  24.0  \n",
       "1  396.90   9.14  21.6  \n",
       "2  392.83   4.03  34.7  \n",
       "3  394.63   2.94  33.4  \n",
       "4  396.90    NaN  36.2  "
      ]
     },
     "execution_count": 85,
     "metadata": {},
     "output_type": "execute_result"
    }
   ],
   "source": [
    "housing_data.head(5)"
   ]
  },
  {
   "cell_type": "code",
   "execution_count": 86,
   "id": "822ed02e",
   "metadata": {},
   "outputs": [
    {
     "name": "stdout",
     "output_type": "stream",
     "text": [
      "<class 'pandas.core.frame.DataFrame'>\n",
      "RangeIndex: 506 entries, 0 to 505\n",
      "Data columns (total 14 columns):\n",
      " #   Column   Non-Null Count  Dtype  \n",
      "---  ------   --------------  -----  \n",
      " 0   CRIM     486 non-null    float64\n",
      " 1   ZN       486 non-null    float64\n",
      " 2   INDUS    486 non-null    float64\n",
      " 3   CHAS     486 non-null    float64\n",
      " 4   NOX      506 non-null    float64\n",
      " 5   RM       506 non-null    float64\n",
      " 6   AGE      486 non-null    float64\n",
      " 7   DIS      506 non-null    float64\n",
      " 8   RAD      506 non-null    int64  \n",
      " 9   TAX      506 non-null    int64  \n",
      " 10  PTRATIO  506 non-null    float64\n",
      " 11  B        506 non-null    float64\n",
      " 12  LSTAT    486 non-null    float64\n",
      " 13  MEDV     506 non-null    float64\n",
      "dtypes: float64(12), int64(2)\n",
      "memory usage: 55.5 KB\n"
     ]
    }
   ],
   "source": [
    "housing_data.info()"
   ]
  },
  {
   "cell_type": "code",
   "execution_count": 87,
   "id": "ff882495",
   "metadata": {},
   "outputs": [
    {
     "data": {
      "text/plain": [
       "CRIM       20\n",
       "ZN         20\n",
       "INDUS      20\n",
       "CHAS       20\n",
       "NOX         0\n",
       "RM          0\n",
       "AGE        20\n",
       "DIS         0\n",
       "RAD         0\n",
       "TAX         0\n",
       "PTRATIO     0\n",
       "B           0\n",
       "LSTAT      20\n",
       "MEDV        0\n",
       "dtype: int64"
      ]
     },
     "execution_count": 87,
     "metadata": {},
     "output_type": "execute_result"
    }
   ],
   "source": [
    "housing_data.isnull().sum()"
   ]
  },
  {
   "cell_type": "markdown",
   "id": "daf3e1a8",
   "metadata": {},
   "source": [
    "### Replace the missing value by median"
   ]
  },
  {
   "cell_type": "code",
   "execution_count": 88,
   "id": "c2cc9421",
   "metadata": {},
   "outputs": [],
   "source": [
    "## method 1 --> doing by directly passing the column names\n",
    "for columns in ['CRIM','ZN','INDUS','CHAS','AGE','LSTAT']:\n",
    "    housing_data[columns] = housing_data[columns].fillna(housing_data[columns].median())"
   ]
  },
  {
   "cell_type": "code",
   "execution_count": 89,
   "id": "43a73f27",
   "metadata": {},
   "outputs": [
    {
     "data": {
      "text/plain": [
       "CRIM       0\n",
       "ZN         0\n",
       "INDUS      0\n",
       "CHAS       0\n",
       "NOX        0\n",
       "RM         0\n",
       "AGE        0\n",
       "DIS        0\n",
       "RAD        0\n",
       "TAX        0\n",
       "PTRATIO    0\n",
       "B          0\n",
       "LSTAT      0\n",
       "MEDV       0\n",
       "dtype: int64"
      ]
     },
     "execution_count": 89,
     "metadata": {},
     "output_type": "execute_result"
    }
   ],
   "source": [
    "housing_data.isnull().sum()"
   ]
  },
  {
   "cell_type": "code",
   "execution_count": 37,
   "id": "cce1fe64",
   "metadata": {},
   "outputs": [],
   "source": [
    "## method 2 --> Fetching all the columns and checking for condition if there are any nulls in the columns\n",
    "for column in housing_data.columns:\n",
    "    if (housing_data[column].isnull().sum() > 0):\n",
    "        housing_data[column]= housing_data[column].fillna(housing_data[column].median)"
   ]
  },
  {
   "cell_type": "code",
   "execution_count": 35,
   "id": "79f07af4",
   "metadata": {},
   "outputs": [
    {
     "data": {
      "text/plain": [
       "Index(['CRIM', 'ZN', 'INDUS', 'CHAS', 'NOX', 'RM', 'AGE', 'DIS', 'RAD', 'TAX',\n",
       "       'PTRATIO', 'B', 'LSTAT', 'MEDV'],\n",
       "      dtype='object')"
      ]
     },
     "execution_count": 35,
     "metadata": {},
     "output_type": "execute_result"
    }
   ],
   "source": [
    "housing_data.columns"
   ]
  },
  {
   "cell_type": "code",
   "execution_count": 39,
   "id": "bba2e153",
   "metadata": {},
   "outputs": [
    {
     "data": {
      "text/plain": [
       "CRIM       0\n",
       "ZN         0\n",
       "INDUS      0\n",
       "CHAS       0\n",
       "NOX        0\n",
       "RM         0\n",
       "AGE        0\n",
       "DIS        0\n",
       "RAD        0\n",
       "TAX        0\n",
       "PTRATIO    0\n",
       "B          0\n",
       "LSTAT      0\n",
       "MEDV       0\n",
       "dtype: int64"
      ]
     },
     "execution_count": 39,
     "metadata": {},
     "output_type": "execute_result"
    }
   ],
   "source": [
    "housing_data.isnull().sum()\n"
   ]
  },
  {
   "cell_type": "code",
   "execution_count": 21,
   "id": "8d6bfb3a",
   "metadata": {},
   "outputs": [
    {
     "data": {
      "text/plain": [
       "'ZN'"
      ]
     },
     "execution_count": 21,
     "metadata": {},
     "output_type": "execute_result"
    }
   ],
   "source": [
    "housing_data.columns[1]"
   ]
  },
  {
   "cell_type": "code",
   "execution_count": 11,
   "id": "b7259e38",
   "metadata": {},
   "outputs": [],
   "source": [
    "CRIM_column_missing_info=housing_data['CRIM'].isnull()"
   ]
  },
  {
   "cell_type": "code",
   "execution_count": 41,
   "id": "932fa340",
   "metadata": {},
   "outputs": [],
   "source": [
    "##housing_data[CRIM_column_missing_info]"
   ]
  },
  {
   "cell_type": "code",
   "execution_count": 42,
   "id": "02806cdc",
   "metadata": {},
   "outputs": [],
   "source": [
    "##ZN_column_missing_info=housing_data['ZN'].isnull()\n",
    "##housing_data[ZN_column_missing_info]"
   ]
  },
  {
   "cell_type": "code",
   "execution_count": null,
   "id": "a141efea",
   "metadata": {},
   "outputs": [],
   "source": [
    "##INDUS_column_missing_info=housing_data['INDUS'].isnull()\n",
    "##housing_data[INDUS_column_missing_info]"
   ]
  },
  {
   "cell_type": "code",
   "execution_count": null,
   "id": "622fec55",
   "metadata": {},
   "outputs": [],
   "source": [
    "##CHAS_column_missing_info=housing_data['CHAS'].isnull()"
   ]
  },
  {
   "cell_type": "code",
   "execution_count": null,
   "id": "e7028244",
   "metadata": {},
   "outputs": [],
   "source": [
    "##AGE_column_missing_info=housing_data['AGE'].isnull()"
   ]
  },
  {
   "cell_type": "code",
   "execution_count": null,
   "id": "610e2454",
   "metadata": {},
   "outputs": [],
   "source": [
    "##LSTAT_column_missing_info=housing_data['LSTAT'].isnull()"
   ]
  },
  {
   "cell_type": "code",
   "execution_count": 44,
   "id": "e1f32c40",
   "metadata": {},
   "outputs": [],
   "source": [
    "##housing_data['CRIM'].value_counts().sum()"
   ]
  },
  {
   "cell_type": "code",
   "execution_count": 43,
   "id": "e2d68d22",
   "metadata": {},
   "outputs": [],
   "source": [
    "##housing_data.describe()"
   ]
  },
  {
   "cell_type": "markdown",
   "id": "d334cae8",
   "metadata": {},
   "source": [
    "### Plotting histogram"
   ]
  },
  {
   "cell_type": "code",
   "execution_count": 45,
   "id": "5de004ac",
   "metadata": {},
   "outputs": [],
   "source": [
    "%matplotlib inline"
   ]
  },
  {
   "cell_type": "code",
   "execution_count": 48,
   "id": "724e679f",
   "metadata": {},
   "outputs": [
    {
     "data": {
      "text/plain": [
       "array([[<AxesSubplot:title={'center':'NOX'}>,\n",
       "        <AxesSubplot:title={'center':'RM'}>,\n",
       "        <AxesSubplot:title={'center':'DIS'}>],\n",
       "       [<AxesSubplot:title={'center':'RAD'}>,\n",
       "        <AxesSubplot:title={'center':'TAX'}>,\n",
       "        <AxesSubplot:title={'center':'PTRATIO'}>],\n",
       "       [<AxesSubplot:title={'center':'B'}>,\n",
       "        <AxesSubplot:title={'center':'MEDV'}>, <AxesSubplot:>]],\n",
       "      dtype=object)"
      ]
     },
     "execution_count": 48,
     "metadata": {},
     "output_type": "execute_result"
    },
    {
     "data": {
      "image/png": "[encoded data removed]",
      "text/plain": [
       "<Figure size 1440x1080 with 9 Axes>"
      ]
     },
     "metadata": {
      "needs_background": "light"
     },
     "output_type": "display_data"
    }
   ],
   "source": [
    "housing_data.hist(bins=50, figsize=(20,15))"
   ]
  },
  {
   "cell_type": "code",
   "execution_count": 50,
   "id": "7d04be3b",
   "metadata": {},
   "outputs": [
    {
     "data": {
      "text/plain": [
       "(506, 14)"
      ]
     },
     "execution_count": 50,
     "metadata": {},
     "output_type": "execute_result"
    }
   ],
   "source": [
    "housing_data.shape"
   ]
  },
  {
   "cell_type": "markdown",
   "id": "5b1d151f",
   "metadata": {},
   "source": [
    "### Train test split"
   ]
  },
  {
   "cell_type": "markdown",
   "id": "635987e2",
   "metadata": {},
   "source": [
    "### Creating our own train test split module for learning purpose"
   ]
  },
  {
   "cell_type": "code",
   "execution_count": 54,
   "id": "d03560fc",
   "metadata": {},
   "outputs": [],
   "source": [
    "def split_train_test(data, test_ratio):\n",
    "    np.random.seed(42)\n",
    "    shuffled = np.random.permutation(len(data))  ## Used for shuffling data. Creates a permutated sequence or array.\n",
    "    test_set_size = int(len(data) * test_ratio)\n",
    "    test_indices = shuffled[:test_set_size]\n",
    "    train_indices = shuffled[test_set_size:]\n",
    "    return data.iloc[train_indices], data.iloc[test_indices]"
   ]
  },
  {
   "cell_type": "code",
   "execution_count": 55,
   "id": "5dd9be84",
   "metadata": {},
   "outputs": [],
   "source": [
    "train_set, test_set = split_train_test(housing_data, 0.2)"
   ]
  },
  {
   "cell_type": "code",
   "execution_count": 56,
   "id": "da83d969",
   "metadata": {},
   "outputs": [
    {
     "name": "stdout",
     "output_type": "stream",
     "text": [
      "Rows in train set 405\n",
      " Rows in test set 101\n"
     ]
    }
   ],
   "source": [
    "print(f\"Rows in train set {len(train_set)}\\n Rows in test set {len(test_set)}\")"
   ]
  },
  {
   "cell_type": "markdown",
   "id": "89f9e349",
   "metadata": {},
   "source": [
    "### Using original module from sklearn"
   ]
  },
  {
   "cell_type": "code",
   "execution_count": 78,
   "id": "3cbe1b68",
   "metadata": {},
   "outputs": [],
   "source": [
    "from sklearn.model_selection import train_test_split\n",
    "X_train, X_test, y_train, y_test = train_test_split(housing_data.iloc[:,:13],housing_data.iloc[:,13],test_size = 0.2, random_state=42)"
   ]
  },
  {
   "cell_type": "code",
   "execution_count": 79,
   "id": "553b98dc",
   "metadata": {},
   "outputs": [
    {
     "data": {
      "text/plain": [
       "(404, 13)"
      ]
     },
     "execution_count": 79,
     "metadata": {},
     "output_type": "execute_result"
    }
   ],
   "source": [
    "X_train.shape"
   ]
  },
  {
   "cell_type": "code",
   "execution_count": 80,
   "id": "304694ac",
   "metadata": {},
   "outputs": [
    {
     "data": {
      "text/plain": [
       "(102, 13)"
      ]
     },
     "execution_count": 80,
     "metadata": {},
     "output_type": "execute_result"
    }
   ],
   "source": [
    "X_test.shape"
   ]
  },
  {
   "cell_type": "code",
   "execution_count": 81,
   "id": "aedaeb3c",
   "metadata": {},
   "outputs": [
    {
     "data": {
      "text/plain": [
       "(404,)"
      ]
     },
     "execution_count": 81,
     "metadata": {},
     "output_type": "execute_result"
    }
   ],
   "source": [
    "y_train.shape"
   ]
  },
  {
   "cell_type": "code",
   "execution_count": 82,
   "id": "129ad440",
   "metadata": {},
   "outputs": [
    {
     "data": {
      "text/plain": [
       "(102,)"
      ]
     },
     "execution_count": 82,
     "metadata": {},
     "output_type": "execute_result"
    }
   ],
   "source": [
    "y_test.shape"
   ]
  },
  {
   "cell_type": "code",
   "execution_count": 90,
   "id": "6260ddf0",
   "metadata": {},
   "outputs": [],
   "source": [
    "### As per harry code\n",
    "\n",
    "train_set,test_set = train_test_split(housing_data,test_size = 0.2, random_state = 42 )"
   ]
  },
  {
   "cell_type": "code",
   "execution_count": 91,
   "id": "4bd3890c",
   "metadata": {},
   "outputs": [
    {
     "data": {
      "text/plain": [
       "(404, 14)"
      ]
     },
     "execution_count": 91,
     "metadata": {},
     "output_type": "execute_result"
    }
   ],
   "source": [
    "train_set.shape"
   ]
  },
  {
   "cell_type": "code",
   "execution_count": 92,
   "id": "55a7474e",
   "metadata": {},
   "outputs": [
    {
     "data": {
      "text/plain": [
       "(102, 14)"
      ]
     },
     "execution_count": 92,
     "metadata": {},
     "output_type": "execute_result"
    }
   ],
   "source": [
    "test_set.shape"
   ]
  },
  {
   "cell_type": "markdown",
   "id": "0c2d0531",
   "metadata": {},
   "source": [
    "### Use stratified shuffle so that data from the whole population is shuffled and fed to both train and test set. This is useful because we do want to feed the model with all types of patterns present in the dataset. This gives a similar proportion of split for both train and test"
   ]
  },
  {
   "cell_type": "code",
   "execution_count": 93,
   "id": "3bd740a4",
   "metadata": {},
   "outputs": [],
   "source": [
    "from sklearn.model_selection import StratifiedShuffleSplit\n",
    "split = StratifiedShuffleSplit(n_splits=1,test_size=0.2,random_state=42)\n",
    "for train_index, test_index  in split.split(housing_data,housing_data['CHAS']):\n",
    "    strat_train_set = housing_data.loc[train_index]\n",
    "    start_test_set = housing_data.loc[test_index]"
   ]
  },
  {
   "cell_type": "markdown",
   "id": "d3ca3652",
   "metadata": {},
   "source": [
    "### Looking for correlations\n",
    "\n",
    "We sued pearson correlation here. This wil give if output increases or decreases with increase in input\n",
    "\n",
    "1 --> Strong positive correlation\n",
    "0 --> Strong negative correlation"
   ]
  },
  {
   "cell_type": "code",
   "execution_count": 95,
   "id": "572934d9",
   "metadata": {},
   "outputs": [],
   "source": [
    "corr_matrix = housing_data.corr()"
   ]
  },
  {
   "cell_type": "code",
   "execution_count": 96,
   "id": "7f1cf29c",
   "metadata": {},
   "outputs": [
    {
     "data": {
      "text/plain": [
       "MEDV       1.000000\n",
       "RM         0.695360\n",
       "ZN         0.362292\n",
       "B          0.333461\n",
       "DIS        0.249929\n",
       "CHAS       0.183844\n",
       "AGE       -0.377572\n",
       "RAD       -0.381626\n",
       "CRIM      -0.383895\n",
       "NOX       -0.427321\n",
       "TAX       -0.468536\n",
       "INDUS     -0.476394\n",
       "PTRATIO   -0.507787\n",
       "LSTAT     -0.723093\n",
       "Name: MEDV, dtype: float64"
      ]
     },
     "execution_count": 96,
     "metadata": {},
     "output_type": "execute_result"
    }
   ],
   "source": [
    "corr_matrix['MEDV'].sort_values(ascending=False)"
   ]
  },
  {
   "cell_type": "markdown",
   "id": "9128e4ab",
   "metadata": {},
   "source": [
    "### Plot correlation using scatter plot for few columns"
   ]
  },
  {
   "cell_type": "code",
   "execution_count": 98,
   "id": "b952582b",
   "metadata": {},
   "outputs": [
    {
     "data": {
      "text/plain": [
       "array([[<AxesSubplot:xlabel='MEDV', ylabel='MEDV'>,\n",
       "        <AxesSubplot:xlabel='RM', ylabel='MEDV'>,\n",
       "        <AxesSubplot:xlabel='ZN', ylabel='MEDV'>,\n",
       "        <AxesSubplot:xlabel='LSTAT', ylabel='MEDV'>],\n",
       "       [<AxesSubplot:xlabel='MEDV', ylabel='RM'>,\n",
       "        <AxesSubplot:xlabel='RM', ylabel='RM'>,\n",
       "        <AxesSubplot:xlabel='ZN', ylabel='RM'>,\n",
       "        <AxesSubplot:xlabel='LSTAT', ylabel='RM'>],\n",
       "       [<AxesSubplot:xlabel='MEDV', ylabel='ZN'>,\n",
       "        <AxesSubplot:xlabel='RM', ylabel='ZN'>,\n",
       "        <AxesSubplot:xlabel='ZN', ylabel='ZN'>,\n",
       "        <AxesSubplot:xlabel='LSTAT', ylabel='ZN'>],\n",
       "       [<AxesSubplot:xlabel='MEDV', ylabel='LSTAT'>,\n",
       "        <AxesSubplot:xlabel='RM', ylabel='LSTAT'>,\n",
       "        <AxesSubplot:xlabel='ZN', ylabel='LSTAT'>,\n",
       "        <AxesSubplot:xlabel='LSTAT', ylabel='LSTAT'>]], dtype=object)"
      ]
     },
     "execution_count": 98,
     "metadata": {},
     "output_type": "execute_result"
    },
    {
     "data": {
      "image/png": "[encoded data removed]",
      "text/plain": [
       "<Figure size 864x576 with 16 Axes>"
      ]
     },
     "metadata": {
      "needs_background": "light"
     },
     "output_type": "display_data"
    }
   ],
   "source": [
    "from pandas.plotting import scatter_matrix\n",
    "attributes = ['MEDV','RM','ZN','LSTAT']\n",
    "scatter_matrix(housing_data[attributes],figsize = (12,8))"
   ]
  },
  {
   "cell_type": "code",
   "execution_count": 99,
   "id": "c3802a94",
   "metadata": {},
   "outputs": [
    {
     "data": {
      "text/plain": [
       "<AxesSubplot:xlabel='RM', ylabel='MEDV'>"
      ]
     },
     "execution_count": 99,
     "metadata": {},
     "output_type": "execute_result"
    },
    {
     "data": {
      "image/png": "[encoded data removed]",
      "text/plain": [
       "<Figure size 432x288 with 1 Axes>"
      ]
     },
     "metadata": {
      "needs_background": "light"
     },
     "output_type": "display_data"
    }
   ],
   "source": [
    "housing_data.plot(kind=\"scatter\",x='RM',y='MEDV',alpha=0.8)"
   ]
  },
  {
   "cell_type": "markdown",
   "id": "167cf88f",
   "metadata": {},
   "source": [
    "### Trying out attribute combination\n",
    "\n",
    "Creating a new column called tax per room just to try out things"
   ]
  },
  {
   "cell_type": "code",
   "execution_count": 100,
   "id": "14c87cca",
   "metadata": {},
   "outputs": [],
   "source": [
    "housing_data['TAXRM'] = housing_data['TAX']/housing_data['RM']"
   ]
  },
  {
   "cell_type": "code",
   "execution_count": 102,
   "id": "0249a905",
   "metadata": {},
   "outputs": [
    {
     "data": {
      "text/html": [
       "<div>\n",
       "<style scoped>\n",
       "    .dataframe tbody tr th:only-of-type {\n",
       "        vertical-align: middle;\n",
       "    }\n",
       "\n",
       "    .dataframe tbody tr th {\n",
       "        vertical-align: top;\n",
       "    }\n",
       "\n",
       "    .dataframe thead th {\n",
       "        text-align: right;\n",
       "    }\n",
       "</style>\n",
       "<table border=\"1\" class=\"dataframe\">\n",
       "  <thead>\n",
       "    <tr style=\"text-align: right;\">\n",
       "      <th></th>\n",
       "      <th>CRIM</th>\n",
       "      <th>ZN</th>\n",
       "      <th>INDUS</th>\n",
       "      <th>CHAS</th>\n",
       "      <th>NOX</th>\n",
       "      <th>RM</th>\n",
       "      <th>AGE</th>\n",
       "      <th>DIS</th>\n",
       "      <th>RAD</th>\n",
       "      <th>TAX</th>\n",
       "      <th>PTRATIO</th>\n",
       "      <th>B</th>\n",
       "      <th>LSTAT</th>\n",
       "      <th>MEDV</th>\n",
       "      <th>TAXRM</th>\n",
       "    </tr>\n",
       "  </thead>\n",
       "  <tbody>\n",
       "    <tr>\n",
       "      <th>0</th>\n",
       "      <td>0.00632</td>\n",
       "      <td>18.0</td>\n",
       "      <td>2.31</td>\n",
       "      <td>0.0</td>\n",
       "      <td>0.538</td>\n",
       "      <td>6.575</td>\n",
       "      <td>65.2</td>\n",
       "      <td>4.0900</td>\n",
       "      <td>1</td>\n",
       "      <td>296</td>\n",
       "      <td>15.3</td>\n",
       "      <td>396.90</td>\n",
       "      <td>4.98</td>\n",
       "      <td>24.0</td>\n",
       "      <td>45.019011</td>\n",
       "    </tr>\n",
       "    <tr>\n",
       "      <th>1</th>\n",
       "      <td>0.02731</td>\n",
       "      <td>0.0</td>\n",
       "      <td>7.07</td>\n",
       "      <td>0.0</td>\n",
       "      <td>0.469</td>\n",
       "      <td>6.421</td>\n",
       "      <td>78.9</td>\n",
       "      <td>4.9671</td>\n",
       "      <td>2</td>\n",
       "      <td>242</td>\n",
       "      <td>17.8</td>\n",
       "      <td>396.90</td>\n",
       "      <td>9.14</td>\n",
       "      <td>21.6</td>\n",
       "      <td>37.688834</td>\n",
       "    </tr>\n",
       "    <tr>\n",
       "      <th>2</th>\n",
       "      <td>0.02729</td>\n",
       "      <td>0.0</td>\n",
       "      <td>7.07</td>\n",
       "      <td>0.0</td>\n",
       "      <td>0.469</td>\n",
       "      <td>7.185</td>\n",
       "      <td>61.1</td>\n",
       "      <td>4.9671</td>\n",
       "      <td>2</td>\n",
       "      <td>242</td>\n",
       "      <td>17.8</td>\n",
       "      <td>392.83</td>\n",
       "      <td>4.03</td>\n",
       "      <td>34.7</td>\n",
       "      <td>33.681280</td>\n",
       "    </tr>\n",
       "    <tr>\n",
       "      <th>3</th>\n",
       "      <td>0.03237</td>\n",
       "      <td>0.0</td>\n",
       "      <td>2.18</td>\n",
       "      <td>0.0</td>\n",
       "      <td>0.458</td>\n",
       "      <td>6.998</td>\n",
       "      <td>45.8</td>\n",
       "      <td>6.0622</td>\n",
       "      <td>3</td>\n",
       "      <td>222</td>\n",
       "      <td>18.7</td>\n",
       "      <td>394.63</td>\n",
       "      <td>2.94</td>\n",
       "      <td>33.4</td>\n",
       "      <td>31.723350</td>\n",
       "    </tr>\n",
       "    <tr>\n",
       "      <th>4</th>\n",
       "      <td>0.06905</td>\n",
       "      <td>0.0</td>\n",
       "      <td>2.18</td>\n",
       "      <td>0.0</td>\n",
       "      <td>0.458</td>\n",
       "      <td>7.147</td>\n",
       "      <td>54.2</td>\n",
       "      <td>6.0622</td>\n",
       "      <td>3</td>\n",
       "      <td>222</td>\n",
       "      <td>18.7</td>\n",
       "      <td>396.90</td>\n",
       "      <td>11.43</td>\n",
       "      <td>36.2</td>\n",
       "      <td>31.061984</td>\n",
       "    </tr>\n",
       "  </tbody>\n",
       "</table>\n",
       "</div>"
      ],
      "text/plain": [
       "      CRIM    ZN  INDUS  CHAS    NOX     RM   AGE     DIS  RAD  TAX  PTRATIO  \\\n",
       "0  0.00632  18.0   2.31   0.0  0.538  6.575  65.2  4.0900    1  296     15.3   \n",
       "1  0.02731   0.0   7.07   0.0  0.469  6.421  78.9  4.9671    2  242     17.8   \n",
       "2  0.02729   0.0   7.07   0.0  0.469  7.185  61.1  4.9671    2  242     17.8   \n",
       "3  0.03237   0.0   2.18   0.0  0.458  6.998  45.8  6.0622    3  222     18.7   \n",
       "4  0.06905   0.0   2.18   0.0  0.458  7.147  54.2  6.0622    3  222     18.7   \n",
       "\n",
       "        B  LSTAT  MEDV      TAXRM  \n",
       "0  396.90   4.98  24.0  45.019011  \n",
       "1  396.90   9.14  21.6  37.688834  \n",
       "2  392.83   4.03  34.7  33.681280  \n",
       "3  394.63   2.94  33.4  31.723350  \n",
       "4  396.90  11.43  36.2  31.061984  "
      ]
     },
     "execution_count": 102,
     "metadata": {},
     "output_type": "execute_result"
    }
   ],
   "source": [
    "housing_data.head(5)"
   ]
  },
  {
   "cell_type": "code",
   "execution_count": 104,
   "id": "5d5af8e8",
   "metadata": {},
   "outputs": [
    {
     "data": {
      "text/plain": [
       "MEDV       1.000000\n",
       "RM         0.695360\n",
       "ZN         0.362292\n",
       "B          0.333461\n",
       "DIS        0.249929\n",
       "CHAS       0.183844\n",
       "AGE       -0.377572\n",
       "RAD       -0.381626\n",
       "CRIM      -0.383895\n",
       "NOX       -0.427321\n",
       "TAX       -0.468536\n",
       "INDUS     -0.476394\n",
       "PTRATIO   -0.507787\n",
       "TAXRM     -0.537650\n",
       "LSTAT     -0.723093\n",
       "Name: MEDV, dtype: float64"
      ]
     },
     "execution_count": 104,
     "metadata": {},
     "output_type": "execute_result"
    }
   ],
   "source": [
    "corr_matrix = housing_data.corr()\n",
    "corr_matrix['MEDV'].sort_values(ascending=False)"
   ]
  },
  {
   "cell_type": "code",
   "execution_count": 105,
   "id": "d01c76b5",
   "metadata": {},
   "outputs": [
    {
     "data": {
      "text/plain": [
       "<AxesSubplot:xlabel='TAXRM', ylabel='MEDV'>"
      ]
     },
     "execution_count": 105,
     "metadata": {},
     "output_type": "execute_result"
    },
    {
     "data": {
      "image/png": "[encoded data removed]",
      "text/plain": [
       "<Figure size 432x288 with 1 Axes>"
      ]
     },
     "metadata": {
      "needs_background": "light"
     },
     "output_type": "display_data"
    }
   ],
   "source": [
    "housing_data.plot(kind=\"scatter\", x=\"TAXRM\",y=\"MEDV\",alpha=0.8)"
   ]
  },
  {
   "cell_type": "markdown",
   "id": "877e649a",
   "metadata": {},
   "source": [
    "### Handling missing attributes"
   ]
  },
  {
   "cell_type": "markdown",
   "id": "45cd733d",
   "metadata": {},
   "source": [
    "#### To take care of missing attributes, we have 3 options\n",
    "\n",
    "1) Get rid of missing data points\n",
    "2) Get rid of whole attribute\n",
    "3) Set value to some value(0,mean,median)"
   ]
  },
  {
   "cell_type": "code",
   "execution_count": null,
   "id": "f5479fea",
   "metadata": {},
   "outputs": [],
   "source": [
    "a = housing_data.dropna(subset=['RM']) ## option 1\n",
    "a.shape"
   ]
  },
  {
   "cell_type": "code",
   "execution_count": null,
   "id": "feea84f4",
   "metadata": {},
   "outputs": [],
   "source": [
    "housing.drop(\"RM\",axis=1) ## option 2\n"
   ]
  },
  {
   "cell_type": "code",
   "execution_count": null,
   "id": "9f01da5c",
   "metadata": {},
   "outputs": [],
   "source": [
    "## Replacing missing value with median  \n",
    "median = housing_data[\"RM\"].median() ## option 3"
   ]
  },
  {
   "cell_type": "code",
   "execution_count": null,
   "id": "93a7e9bd",
   "metadata": {},
   "outputs": [],
   "source": [
    "housing_data[\"RM\"].fillna(median)"
   ]
  },
  {
   "cell_type": "markdown",
   "id": "eae1cd59",
   "metadata": {},
   "source": [
    "### we can do the same thing using sklearn imputor class"
   ]
  },
  {
   "cell_type": "code",
   "execution_count": null,
   "id": "f43ccb73",
   "metadata": {},
   "outputs": [],
   "source": [
    "from sklearn.impute import SimpleImputer\n",
    "imputer = SimpleImputer(strategy = \"median\")\n",
    "\n",
    "### fitting this to our data\n",
    "imputer.fit(housing_data)"
   ]
  },
  {
   "cell_type": "code",
   "execution_count": null,
   "id": "1b71ade8",
   "metadata": {},
   "outputs": [],
   "source": [
    "imputer.statistics_   ## Gives values of median for all the columns"
   ]
  },
  {
   "cell_type": "code",
   "execution_count": null,
   "id": "7df4f573",
   "metadata": {},
   "outputs": [],
   "source": [
    "### Creating a pipeline to take care of missing values in any of the columns\n",
    "X = imputer.transform(housing_data)   ## Gives numpy array as output"
   ]
  },
  {
   "cell_type": "markdown",
   "id": "2bc73a40",
   "metadata": {},
   "source": [
    "### Scikit-learn Design"
   ]
  },
  {
   "cell_type": "markdown",
   "id": "6d614b77",
   "metadata": {},
   "source": [
    "Primarily 3 types of objects\n",
    "\n",
    "1) Estimators --> To estimate some parameter based on a dataset. Ex: Imputer\n",
    "It has a fit and transform method.\n",
    "Fit --> fits the dataset and calculates internal parameters. Used to learn parameters from training data.\n",
    "Transform --> \n",
    "2) Transformers --> Takes input and returns output based on learnings from fit. It also has a convenience function called fit_transform. \n",
    "3) Predictors --> Linear regression"
   ]
  },
  {
   "cell_type": "code",
   "execution_count": null,
   "id": "caa70259",
   "metadata": {},
   "outputs": [],
   "source": []
  },
  {
   "cell_type": "code",
   "execution_count": null,
   "id": "ca8d849c",
   "metadata": {},
   "outputs": [],
   "source": []
  },
  {
   "cell_type": "code",
   "execution_count": null,
   "id": "0350ee95",
   "metadata": {},
   "outputs": [],
   "source": []
  },
  {
   "cell_type": "code",
   "execution_count": null,
   "id": "6f1c777c",
   "metadata": {},
   "outputs": [],
   "source": []
  },
  {
   "cell_type": "code",
   "execution_count": null,
   "id": "8a46470b",
   "metadata": {},
   "outputs": [],
   "source": []
  },
  {
   "cell_type": "code",
   "execution_count": null,
   "id": "311acd0c",
   "metadata": {},
   "outputs": [],
   "source": []
  },
  {
   "cell_type": "code",
   "execution_count": null,
   "id": "3741aa43",
   "metadata": {},
   "outputs": [],
   "source": []
  },
  {
   "cell_type": "code",
   "execution_count": null,
   "id": "ef8e778f",
   "metadata": {},
   "outputs": [],
   "source": []
  },
  {
   "cell_type": "code",
   "execution_count": null,
   "id": "d24f25e2",
   "metadata": {},
   "outputs": [],
   "source": []
  }
 ],
 "metadata": {
  "kernelspec": {
   "display_name": "Python 3",
   "language": "python",
   "name": "python3"
  },
  "language_info": {
   "codemirror_mode": {
    "name": "ipython",
    "version": 3
   },
   "file_extension": ".py",
   "mimetype": "text/x-python",
   "name": "python",
   "nbconvert_exporter": "python",
   "pygments_lexer": "ipython3",
   "version": "3.8.8"
  }
 },
 "nbformat": 4,
 "nbformat_minor": 5
}
